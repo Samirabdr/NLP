{
 "cells": [
  {
   "cell_type": "code",
   "execution_count": 88,
   "id": "1510e3b5",
   "metadata": {},
   "outputs": [],
   "source": [
    "import pandas as pd\n",
    "import warnings\n",
    "warnings.filterwarnings(\"ignore\")"
   ]
  },
  {
   "cell_type": "code",
   "execution_count": 89,
   "id": "2a845b93",
   "metadata": {},
   "outputs": [
    {
     "data": {
      "text/html": [
       "<div>\n",
       "<style scoped>\n",
       "    .dataframe tbody tr th:only-of-type {\n",
       "        vertical-align: middle;\n",
       "    }\n",
       "\n",
       "    .dataframe tbody tr th {\n",
       "        vertical-align: top;\n",
       "    }\n",
       "\n",
       "    .dataframe thead th {\n",
       "        text-align: right;\n",
       "    }\n",
       "</style>\n",
       "<table border=\"1\" class=\"dataframe\">\n",
       "  <thead>\n",
       "    <tr style=\"text-align: right;\">\n",
       "      <th></th>\n",
       "      <th>label</th>\n",
       "      <th>message</th>\n",
       "    </tr>\n",
       "  </thead>\n",
       "  <tbody>\n",
       "    <tr>\n",
       "      <th>0</th>\n",
       "      <td>ham</td>\n",
       "      <td>Go until jurong point, crazy.. Available only ...</td>\n",
       "    </tr>\n",
       "    <tr>\n",
       "      <th>1</th>\n",
       "      <td>ham</td>\n",
       "      <td>Ok lar... Joking wif u oni...</td>\n",
       "    </tr>\n",
       "    <tr>\n",
       "      <th>2</th>\n",
       "      <td>spam</td>\n",
       "      <td>Free entry in 2 a wkly comp to win FA Cup fina...</td>\n",
       "    </tr>\n",
       "    <tr>\n",
       "      <th>3</th>\n",
       "      <td>ham</td>\n",
       "      <td>U dun say so early hor... U c already then say...</td>\n",
       "    </tr>\n",
       "    <tr>\n",
       "      <th>4</th>\n",
       "      <td>ham</td>\n",
       "      <td>Nah I don't think he goes to usf, he lives aro...</td>\n",
       "    </tr>\n",
       "  </tbody>\n",
       "</table>\n",
       "</div>"
      ],
      "text/plain": [
       "  label                                            message\n",
       "0   ham  Go until jurong point, crazy.. Available only ...\n",
       "1   ham                      Ok lar... Joking wif u oni...\n",
       "2  spam  Free entry in 2 a wkly comp to win FA Cup fina...\n",
       "3   ham  U dun say so early hor... U c already then say...\n",
       "4   ham  Nah I don't think he goes to usf, he lives aro..."
      ]
     },
     "execution_count": 89,
     "metadata": {},
     "output_type": "execute_result"
    }
   ],
   "source": [
    "messages = pd.read_csv('SMSSpamCollection.txt', sep='\\t', names=[\"label\", \"message\"])\n",
    "messages.head()"
   ]
  },
  {
   "cell_type": "code",
   "execution_count": 90,
   "id": "bde8e281",
   "metadata": {},
   "outputs": [
    {
     "data": {
      "text/plain": [
       "(5572, 2)"
      ]
     },
     "execution_count": 90,
     "metadata": {},
     "output_type": "execute_result"
    }
   ],
   "source": [
    "messages.shape"
   ]
  },
  {
   "cell_type": "markdown",
   "id": "d9a607ac",
   "metadata": {},
   "source": [
    "### Text preprocessing"
   ]
  },
  {
   "cell_type": "code",
   "execution_count": 91,
   "id": "434c8b37",
   "metadata": {},
   "outputs": [],
   "source": [
    "import nltk\n",
    "import re\n",
    "#nltk.download('stopwords')\n",
    "from nltk.corpus import stopwords\n",
    "from nltk.stem import PorterStemmer\n",
    "from nltk.stem import WordNetLemmatizer"
   ]
  },
  {
   "cell_type": "code",
   "execution_count": 92,
   "id": "5dff3e39",
   "metadata": {},
   "outputs": [],
   "source": [
    "ps = PorterStemmer()\n",
    "lemmatizer=WordNetLemmatizer()"
   ]
  },
  {
   "cell_type": "code",
   "execution_count": 93,
   "id": "424d8e2f",
   "metadata": {},
   "outputs": [],
   "source": [
    "corpus = []\n",
    "for i in range(0, len(messages)):\n",
    "    review = re.sub('[^a-zA-Z]', ' ', messages['message'][i])\n",
    "    review = review.lower()\n",
    "    review = review.split()\n",
    "    \n",
    "    review = [ps.stem(word) for word in review if not word in stopwords.words('english')]\n",
    "    review = ' '.join(review)\n",
    "    corpus.append(review)"
   ]
  },
  {
   "cell_type": "code",
   "execution_count": 94,
   "id": "7ce219ce",
   "metadata": {},
   "outputs": [
    {
     "data": {
      "text/plain": [
       "['gonna home soon want talk stuff anymor tonight k cri enough today',\n",
       " 'six chanc win cash pound txt csh send cost p day day tsandc appli repli hl info',\n",
       " 'urgent week free membership prize jackpot txt word claim c www dbuk net lccltd pobox ldnw rw',\n",
       " 'search right word thank breather promis wont take help grant fulfil promis wonder bless time',\n",
       " 'date sunday']"
      ]
     },
     "execution_count": 94,
     "metadata": {},
     "output_type": "execute_result"
    }
   ],
   "source": [
    "corpus[10:15]"
   ]
  },
  {
   "cell_type": "markdown",
   "id": "35359201",
   "metadata": {},
   "source": [
    "## Text to vector: BOW, TFIDF, Word2Vec"
   ]
  },
  {
   "cell_type": "markdown",
   "id": "8e5537e3",
   "metadata": {},
   "source": [
    "####  Bag of Words model"
   ]
  },
  {
   "cell_type": "code",
   "execution_count": 95,
   "id": "73cca13a",
   "metadata": {},
   "outputs": [],
   "source": [
    "# Creating the Bag of Words model\n",
    "\n",
    "from sklearn.feature_extraction.text import CountVectorizer\n",
    "cv = CountVectorizer(max_features=2500, binary = True, ngram_range=(2,2))\n",
    "X = cv.fit_transform(corpus).toarray()"
   ]
  },
  {
   "cell_type": "code",
   "execution_count": 96,
   "id": "8e7ac1f7",
   "metadata": {},
   "outputs": [
    {
     "data": {
      "text/plain": [
       "(5572, 2500)"
      ]
     },
     "execution_count": 96,
     "metadata": {},
     "output_type": "execute_result"
    }
   ],
   "source": [
    "X.shape"
   ]
  },
  {
   "cell_type": "code",
   "execution_count": 97,
   "id": "c70b7b23",
   "metadata": {},
   "outputs": [
    {
     "data": {
      "text/plain": [
       "array([False, False,  True, False, False,  True, False, False,  True,\n",
       "        True])"
      ]
     },
     "execution_count": 97,
     "metadata": {},
     "output_type": "execute_result"
    }
   ],
   "source": [
    "y=pd.get_dummies(messages['label'])\n",
    "y=y.iloc[:,1].values\n",
    "y[:10]"
   ]
  },
  {
   "cell_type": "code",
   "execution_count": 98,
   "id": "c1b55209",
   "metadata": {},
   "outputs": [],
   "source": [
    "# Train Test Split\n",
    "\n",
    "from sklearn.model_selection import train_test_split\n",
    "X_train, X_test, y_train, y_test = train_test_split(X, y, test_size = 0.20, random_state = 0)"
   ]
  },
  {
   "cell_type": "code",
   "execution_count": 99,
   "id": "0c0c32f6",
   "metadata": {},
   "outputs": [],
   "source": [
    "# Training model using Naive bayes classifier\n",
    "\n",
    "from sklearn.naive_bayes import MultinomialNB\n",
    "spam_detect_model = MultinomialNB().fit(X_train, y_train)"
   ]
  },
  {
   "cell_type": "code",
   "execution_count": 100,
   "id": "3a3862fc",
   "metadata": {},
   "outputs": [],
   "source": [
    "y_pred=spam_detect_model.predict(X_test)"
   ]
  },
  {
   "cell_type": "code",
   "execution_count": 101,
   "id": "c6882c9c",
   "metadata": {},
   "outputs": [
    {
     "name": "stdout",
     "output_type": "stream",
     "text": [
      "0.9730941704035875\n"
     ]
    }
   ],
   "source": [
    "from sklearn.metrics import accuracy_score,classification_report\n",
    "print(accuracy_score(y_test,y_pred))"
   ]
  },
  {
   "cell_type": "code",
   "execution_count": 102,
   "id": "3d51f282",
   "metadata": {},
   "outputs": [
    {
     "name": "stdout",
     "output_type": "stream",
     "text": [
      "              precision    recall  f1-score   support\n",
      "\n",
      "       False       0.97      1.00      0.98       955\n",
      "        True       1.00      0.81      0.90       160\n",
      "\n",
      "    accuracy                           0.97      1115\n",
      "   macro avg       0.98      0.91      0.94      1115\n",
      "weighted avg       0.97      0.97      0.97      1115\n",
      "\n"
     ]
    }
   ],
   "source": [
    "print(classification_report(y_test,y_pred))"
   ]
  },
  {
   "cell_type": "markdown",
   "id": "28ca0396",
   "metadata": {},
   "source": [
    "## TF-IDF"
   ]
  },
  {
   "cell_type": "code",
   "execution_count": 103,
   "id": "f6b4c264",
   "metadata": {},
   "outputs": [],
   "source": [
    "# Creating the TFIDF model\n",
    "from sklearn.feature_extraction.text import TfidfVectorizer\n",
    "tv = TfidfVectorizer(max_features=2500, binary=True, ngram_range=(2,2))\n",
    "X = tv.fit_transform(corpus).toarray()"
   ]
  },
  {
   "cell_type": "code",
   "execution_count": 104,
   "id": "1a692ef9",
   "metadata": {},
   "outputs": [],
   "source": [
    "# Train Test Split\n",
    "\n",
    "from sklearn.model_selection import train_test_split\n",
    "X_train, X_test, y_train, y_test = train_test_split(X, y, test_size = 0.20, random_state = 0)"
   ]
  },
  {
   "cell_type": "code",
   "execution_count": 105,
   "id": "96c7e168",
   "metadata": {},
   "outputs": [],
   "source": [
    "from sklearn.naive_bayes import MultinomialNB\n",
    "spam_detect_model = MultinomialNB().fit(X_train, y_train)"
   ]
  },
  {
   "cell_type": "code",
   "execution_count": 106,
   "id": "833014b4",
   "metadata": {},
   "outputs": [],
   "source": [
    "#prediction\n",
    "y_pred=spam_detect_model.predict(X_test)"
   ]
  },
  {
   "cell_type": "code",
   "execution_count": 107,
   "id": "eb72b50b",
   "metadata": {},
   "outputs": [
    {
     "name": "stdout",
     "output_type": "stream",
     "text": [
      "0.957847533632287\n"
     ]
    }
   ],
   "source": [
    "score=accuracy_score(y_test,y_pred)\n",
    "print(score)"
   ]
  },
  {
   "cell_type": "code",
   "execution_count": 108,
   "id": "b3388302",
   "metadata": {},
   "outputs": [
    {
     "name": "stdout",
     "output_type": "stream",
     "text": [
      "              precision    recall  f1-score   support\n",
      "\n",
      "       False       1.00      0.95      0.98      1002\n",
      "        True       0.71      1.00      0.83       113\n",
      "\n",
      "    accuracy                           0.96      1115\n",
      "   macro avg       0.85      0.98      0.90      1115\n",
      "weighted avg       0.97      0.96      0.96      1115\n",
      "\n"
     ]
    }
   ],
   "source": [
    "from sklearn.metrics import classification_report\n",
    "print(classification_report(y_pred,y_test))"
   ]
  },
  {
   "cell_type": "markdown",
   "id": "62fe3875",
   "metadata": {},
   "source": [
    "## Word2vec Implementation"
   ]
  },
  {
   "cell_type": "code",
   "execution_count": 109,
   "id": "70f2dd6a",
   "metadata": {},
   "outputs": [],
   "source": [
    "#!pip install gensim"
   ]
  },
  {
   "cell_type": "code",
   "execution_count": 110,
   "id": "7736ddee",
   "metadata": {},
   "outputs": [],
   "source": [
    "import gensim.downloader as api\n",
    "\n",
    "wv = api.load('word2vec-google-news-300')"
   ]
  },
  {
   "cell_type": "code",
   "execution_count": 111,
   "id": "1724c58e",
   "metadata": {},
   "outputs": [],
   "source": [
    "from nltk import sent_tokenize\n",
    "from gensim.utils import simple_preprocess"
   ]
  },
  {
   "cell_type": "code",
   "execution_count": 112,
   "id": "52d80f2a",
   "metadata": {},
   "outputs": [],
   "source": [
    "words=[]\n",
    "for sent in corpus:\n",
    "    sent_token=sent_tokenize(sent)\n",
    "    for sent in sent_token:\n",
    "        words.append(simple_preprocess(sent))"
   ]
  },
  {
   "cell_type": "code",
   "execution_count": 113,
   "id": "9b821f16",
   "metadata": {},
   "outputs": [],
   "source": [
    "#words[:10]"
   ]
  },
  {
   "cell_type": "code",
   "execution_count": 114,
   "id": "483060b2",
   "metadata": {},
   "outputs": [],
   "source": [
    "import numpy as np\n",
    "import gensim\n",
    "\n",
    "# Train Word2Vec\n",
    "model = gensim.models.Word2Vec(sentences=words, vector_size=300, window=5, min_count=2)\n",
    "\n",
    "# Create feature vectors for each message (average of word embeddings)\n",
    "X = []\n",
    "for sent in corpus:\n",
    "    tokens = simple_preprocess(sent)\n",
    "    word_vecs = [model.wv[w] for w in tokens if w in model.wv]\n",
    "    if len(word_vecs) > 0:\n",
    "        X.append(np.mean(word_vecs, axis=0))\n",
    "    else:\n",
    "        X.append(np.zeros(300))  # fallback if no words in vocab\n",
    "X = np.array(X)\n"
   ]
  },
  {
   "cell_type": "code",
   "execution_count": 115,
   "id": "40fc1a3b",
   "metadata": {},
   "outputs": [
    {
     "name": "stdout",
     "output_type": "stream",
     "text": [
      "Accuracy: 0.8565022421524664\n",
      "              precision    recall  f1-score   support\n",
      "\n",
      "       False       0.86      1.00      0.92       955\n",
      "        True       0.00      0.00      0.00       160\n",
      "\n",
      "    accuracy                           0.86      1115\n",
      "   macro avg       0.43      0.50      0.46      1115\n",
      "weighted avg       0.73      0.86      0.79      1115\n",
      "\n"
     ]
    }
   ],
   "source": [
    "from sklearn.linear_model import LogisticRegression\n",
    "from sklearn.model_selection import train_test_split\n",
    "from sklearn.metrics import accuracy_score, classification_report\n",
    "\n",
    "# Train-test split\n",
    "X_train, X_test, y_train, y_test = train_test_split(X, y, test_size=0.2, random_state=0)\n",
    "\n",
    "# Logistic Regression works well with embeddings\n",
    "clf = LogisticRegression(max_iter=1000)\n",
    "clf.fit(X_train, y_train)\n",
    "\n",
    "# Predictions\n",
    "y_pred = clf.predict(X_test)\n",
    "\n",
    "# Evaluation\n",
    "print(\"Accuracy:\", accuracy_score(y_test, y_pred))\n",
    "print(classification_report(y_test, y_pred))\n"
   ]
  },
  {
   "cell_type": "code",
   "execution_count": 116,
   "id": "c98f031c",
   "metadata": {},
   "outputs": [
    {
     "name": "stdout",
     "output_type": "stream",
     "text": [
      "Accuracy: 0.8565022421524664\n",
      "              precision    recall  f1-score   support\n",
      "\n",
      "       False       0.86      1.00      0.92       955\n",
      "        True       0.00      0.00      0.00       160\n",
      "\n",
      "    accuracy                           0.86      1115\n",
      "   macro avg       0.43      0.50      0.46      1115\n",
      "weighted avg       0.73      0.86      0.79      1115\n",
      "\n"
     ]
    }
   ],
   "source": [
    "from sklearn import svm\n",
    "from sklearn.model_selection import train_test_split\n",
    "from sklearn.metrics import accuracy_score, classification_report\n",
    "\n",
    "# Train-test split\n",
    "X_train, X_test, y_train, y_test = train_test_split(X, y, test_size=0.2, random_state=0)\n",
    "\n",
    "# Train SVM\n",
    "clf = svm.SVC(kernel='linear')  # You can also try kernel='rbf' or 'poly'\n",
    "clf.fit(X_train, y_train)\n",
    "\n",
    "# Predictions\n",
    "y_pred = clf.predict(X_test)\n",
    "\n",
    "# Evaluation\n",
    "print(\"Accuracy:\", accuracy_score(y_test, y_pred))\n",
    "print(classification_report(y_test, y_pred))\n"
   ]
  },
  {
   "cell_type": "markdown",
   "id": "c57db1df",
   "metadata": {},
   "source": [
    "## Avg Word2Vec"
   ]
  },
  {
   "cell_type": "code",
   "execution_count": 117,
   "id": "4d8cb469",
   "metadata": {},
   "outputs": [],
   "source": [
    "corpus = []\n",
    "for i in range(0, len(messages)):\n",
    "    review = re.sub('[^a-zA-Z]', ' ', messages['message'][i])\n",
    "    review = review.lower()\n",
    "    review = review.split()\n",
    "    \n",
    "    review = [lemmatizer.lemmatize(word) for word in review]\n",
    "    review = ' '.join(review)\n",
    "    corpus.append(review)"
   ]
  },
  {
   "cell_type": "code",
   "execution_count": 118,
   "id": "7c0ada96",
   "metadata": {},
   "outputs": [
    {
     "data": {
      "text/plain": [
       "[[0, '', '645'], [0, '', ':) '], [0, '', ':-) :-)']]"
      ]
     },
     "execution_count": 118,
     "metadata": {},
     "output_type": "execute_result"
    }
   ],
   "source": [
    "[[i,j,k] for i,j,k in zip(list(map(len,corpus)),corpus, messages['message']) if i<1]"
   ]
  },
  {
   "cell_type": "code",
   "execution_count": 119,
   "id": "18e5488c",
   "metadata": {},
   "outputs": [],
   "source": [
    "from nltk import sent_tokenize\n",
    "from gensim.utils import simple_preprocess"
   ]
  },
  {
   "cell_type": "code",
   "execution_count": 120,
   "id": "e6c75a09",
   "metadata": {},
   "outputs": [],
   "source": [
    "words=[]\n",
    "for sent in corpus:\n",
    "    sent_token=sent_tokenize(sent)\n",
    "    for sent in sent_token:\n",
    "        words.append(simple_preprocess(sent))\n"
   ]
  },
  {
   "cell_type": "code",
   "execution_count": 121,
   "id": "988d6abf",
   "metadata": {},
   "outputs": [],
   "source": [
    "#words[:10]"
   ]
  },
  {
   "cell_type": "code",
   "execution_count": 122,
   "id": "82612ab5",
   "metadata": {},
   "outputs": [],
   "source": [
    "## Lets train Word2vec from scratch\n",
    "model=gensim.models.Word2Vec(words)"
   ]
  },
  {
   "cell_type": "code",
   "execution_count": 123,
   "id": "a84b5236",
   "metadata": {},
   "outputs": [
    {
     "data": {
      "text/plain": [
       "['to', 'you', 'the', 'it', 'and', 'in', 'is', 'me', 'my', 'for']"
      ]
     },
     "execution_count": 123,
     "metadata": {},
     "output_type": "execute_result"
    }
   ],
   "source": [
    "## To Get All the Vocabulary\n",
    "model.wv.index_to_key[:10]"
   ]
  },
  {
   "cell_type": "code",
   "execution_count": 124,
   "id": "835e34e2",
   "metadata": {},
   "outputs": [
    {
     "data": {
      "text/plain": [
       "5569"
      ]
     },
     "execution_count": 124,
     "metadata": {},
     "output_type": "execute_result"
    }
   ],
   "source": [
    "model.corpus_count"
   ]
  },
  {
   "cell_type": "code",
   "execution_count": 125,
   "id": "d646afc1",
   "metadata": {},
   "outputs": [
    {
     "data": {
      "text/plain": [
       "5"
      ]
     },
     "execution_count": 125,
     "metadata": {},
     "output_type": "execute_result"
    }
   ],
   "source": [
    "model.epochs"
   ]
  },
  {
   "cell_type": "code",
   "execution_count": 126,
   "id": "22886b30",
   "metadata": {},
   "outputs": [
    {
     "data": {
      "text/plain": [
       "['go',\n",
       " 'until',\n",
       " 'jurong',\n",
       " 'point',\n",
       " 'crazy',\n",
       " 'available',\n",
       " 'only',\n",
       " 'in',\n",
       " 'bugis',\n",
       " 'great',\n",
       " 'world',\n",
       " 'la',\n",
       " 'buffet',\n",
       " 'cine',\n",
       " 'there',\n",
       " 'got',\n",
       " 'amore',\n",
       " 'wat']"
      ]
     },
     "execution_count": 126,
     "metadata": {},
     "output_type": "execute_result"
    }
   ],
   "source": [
    "words[0]"
   ]
  },
  {
   "cell_type": "code",
   "execution_count": 127,
   "id": "71902bec",
   "metadata": {},
   "outputs": [],
   "source": [
    "def avg_word2vec(doc):\n",
    "    # remove out-of-vocabulary words\n",
    "    sent = [word for word in doc if word in model.wv.index_to_key]\n",
    "    #print(sent)\n",
    "    \n",
    "    if len(sent)>=1:\n",
    "        return np.mean([model.wv[word] for word in sent], axis=0)\n",
    "    else:\n",
    "        return np.zeros(model.vector_size)  \n",
    "    #return np.mean([model.wv[word] for word in doc if word in model.wv.index_to_key],axis=0)\n",
    "                #or [np.zeros(len(model.wv.index_to_key))], axis=0)"
   ]
  },
  {
   "cell_type": "code",
   "execution_count": 128,
   "id": "73e63a06",
   "metadata": {},
   "outputs": [],
   "source": [
    "from tqdm import tqdm"
   ]
  },
  {
   "cell_type": "code",
   "execution_count": 129,
   "id": "04addd7e",
   "metadata": {},
   "outputs": [
    {
     "name": "stderr",
     "output_type": "stream",
     "text": [
      "100%|██████████| 5569/5569 [00:00<00:00, 8580.42it/s]\n"
     ]
    }
   ],
   "source": [
    "#apply for the entire sentences\n",
    "import numpy as np\n",
    "X=[]\n",
    "for i in tqdm(range(len(words))):\n",
    "    X.append(avg_word2vec(words[i]))"
   ]
  },
  {
   "cell_type": "code",
   "execution_count": 130,
   "id": "7b296688",
   "metadata": {},
   "outputs": [
    {
     "data": {
      "text/plain": [
       "5569"
      ]
     },
     "execution_count": 130,
     "metadata": {},
     "output_type": "execute_result"
    }
   ],
   "source": [
    "len(X)"
   ]
  },
  {
   "cell_type": "code",
   "execution_count": 131,
   "id": "b8e6105e",
   "metadata": {},
   "outputs": [],
   "source": [
    "##independent Features\n",
    "X_new =np.array(X)"
   ]
  },
  {
   "cell_type": "code",
   "execution_count": 132,
   "id": "aa245d72",
   "metadata": {},
   "outputs": [
    {
     "data": {
      "text/plain": [
       "(5572, 2)"
      ]
     },
     "execution_count": 132,
     "metadata": {},
     "output_type": "execute_result"
    }
   ],
   "source": [
    "messages.shape"
   ]
  },
  {
   "cell_type": "code",
   "execution_count": 133,
   "id": "24a83d06",
   "metadata": {},
   "outputs": [
    {
     "data": {
      "text/plain": [
       "array([-0.15813592,  0.20628825,  0.09883745,  0.07780463,  0.08844206,\n",
       "       -0.42327774,  0.1367866 ,  0.4153632 , -0.23288128, -0.0910508 ,\n",
       "       -0.15298262, -0.31630844, -0.04828515,  0.11177237,  0.16231343,\n",
       "       -0.14389886,  0.10960796, -0.26661217, -0.06120687, -0.4568581 ,\n",
       "        0.18122873,  0.10891304,  0.05708148, -0.18651149, -0.02250941,\n",
       "       -0.01462258, -0.17839006, -0.17155111, -0.21673435,  0.02356395,\n",
       "        0.27177846,  0.01962412,  0.09230398, -0.15340431, -0.12324122,\n",
       "        0.3288319 ,  0.05432113, -0.10620004, -0.09313025, -0.41694784,\n",
       "        0.09856156, -0.21763575, -0.15759435,  0.0146166 ,  0.12185354,\n",
       "        0.00283993, -0.10670035, -0.03778572,  0.18609628,  0.12430638,\n",
       "        0.14842062, -0.15504752, -0.04814173,  0.05281594, -0.05999708,\n",
       "        0.03886792,  0.13011205,  0.0049193 , -0.3168648 ,  0.16437304,\n",
       "       -0.00165583,  0.13954699,  0.00204779, -0.0934314 , -0.25104457,\n",
       "        0.24216655,  0.08594633,  0.19452628, -0.29950473,  0.3465767 ,\n",
       "       -0.23180015,  0.13518935,  0.32348257, -0.10907702,  0.30661204,\n",
       "        0.05179613,  0.09329627, -0.08717733, -0.1441015 ,  0.065651  ,\n",
       "       -0.19043913, -0.09488578, -0.24395078,  0.4075654 , -0.13780119,\n",
       "       -0.0324341 ,  0.04322908,  0.1926817 ,  0.3180387 ,  0.06342713,\n",
       "        0.31466544,  0.12092948,  0.03464982,  0.04036746,  0.35101628,\n",
       "        0.155592  ,  0.1374642 , -0.1776343 ,  0.13241163, -0.00058404],\n",
       "      dtype=float32)"
      ]
     },
     "execution_count": 133,
     "metadata": {},
     "output_type": "execute_result"
    }
   ],
   "source": [
    "X[1]"
   ]
  },
  {
   "cell_type": "code",
   "execution_count": 134,
   "id": "2392713a",
   "metadata": {},
   "outputs": [
    {
     "data": {
      "text/plain": [
       "(5569, 100)"
      ]
     },
     "execution_count": 134,
     "metadata": {},
     "output_type": "execute_result"
    }
   ],
   "source": [
    "X_new.shape"
   ]
  },
  {
   "cell_type": "code",
   "execution_count": 135,
   "id": "e3394948",
   "metadata": {},
   "outputs": [
    {
     "data": {
      "text/plain": [
       "(100,)"
      ]
     },
     "execution_count": 135,
     "metadata": {},
     "output_type": "execute_result"
    }
   ],
   "source": [
    "X_new[0].shape"
   ]
  },
  {
   "cell_type": "code",
   "execution_count": 136,
   "id": "9e54a1c6",
   "metadata": {},
   "outputs": [],
   "source": [
    "## Dependent Features\n",
    "## Output Features\n",
    "y = messages[list(map(lambda x: len(x)>0 ,corpus))]\n",
    "y=pd.get_dummies(y['label'])\n",
    "y=y.iloc[:,0].values"
   ]
  },
  {
   "cell_type": "code",
   "execution_count": 137,
   "id": "edebd586",
   "metadata": {},
   "outputs": [
    {
     "data": {
      "text/plain": [
       "(5569,)"
      ]
     },
     "execution_count": 137,
     "metadata": {},
     "output_type": "execute_result"
    }
   ],
   "source": [
    "y.shape"
   ]
  },
  {
   "cell_type": "code",
   "execution_count": 138,
   "id": "49791a04",
   "metadata": {},
   "outputs": [
    {
     "data": {
      "text/plain": [
       "(1, 100)"
      ]
     },
     "execution_count": 138,
     "metadata": {},
     "output_type": "execute_result"
    }
   ],
   "source": [
    "X[0].reshape(1,-1).shape"
   ]
  },
  {
   "cell_type": "code",
   "execution_count": 139,
   "id": "cdd94e20",
   "metadata": {},
   "outputs": [],
   "source": [
    "df = pd.DataFrame()\n",
    "for i in range(len(X)):\n",
    "    row_df = pd.DataFrame(X[i].reshape(1, -1))\n",
    "    df = pd.concat([df, row_df], ignore_index=True)\n"
   ]
  },
  {
   "cell_type": "code",
   "execution_count": 140,
   "id": "77851882",
   "metadata": {},
   "outputs": [
    {
     "data": {
      "text/html": [
       "<div>\n",
       "<style scoped>\n",
       "    .dataframe tbody tr th:only-of-type {\n",
       "        vertical-align: middle;\n",
       "    }\n",
       "\n",
       "    .dataframe tbody tr th {\n",
       "        vertical-align: top;\n",
       "    }\n",
       "\n",
       "    .dataframe thead th {\n",
       "        text-align: right;\n",
       "    }\n",
       "</style>\n",
       "<table border=\"1\" class=\"dataframe\">\n",
       "  <thead>\n",
       "    <tr style=\"text-align: right;\">\n",
       "      <th></th>\n",
       "      <th>0</th>\n",
       "      <th>1</th>\n",
       "      <th>2</th>\n",
       "      <th>3</th>\n",
       "      <th>4</th>\n",
       "      <th>5</th>\n",
       "      <th>6</th>\n",
       "      <th>7</th>\n",
       "      <th>8</th>\n",
       "      <th>9</th>\n",
       "      <th>...</th>\n",
       "      <th>90</th>\n",
       "      <th>91</th>\n",
       "      <th>92</th>\n",
       "      <th>93</th>\n",
       "      <th>94</th>\n",
       "      <th>95</th>\n",
       "      <th>96</th>\n",
       "      <th>97</th>\n",
       "      <th>98</th>\n",
       "      <th>99</th>\n",
       "    </tr>\n",
       "  </thead>\n",
       "  <tbody>\n",
       "    <tr>\n",
       "      <th>0</th>\n",
       "      <td>-0.170072</td>\n",
       "      <td>0.238321</td>\n",
       "      <td>0.116029</td>\n",
       "      <td>0.091164</td>\n",
       "      <td>0.094253</td>\n",
       "      <td>-0.488225</td>\n",
       "      <td>0.171596</td>\n",
       "      <td>0.472685</td>\n",
       "      <td>-0.268256</td>\n",
       "      <td>-0.112176</td>\n",
       "      <td>...</td>\n",
       "      <td>0.353995</td>\n",
       "      <td>0.148204</td>\n",
       "      <td>0.045717</td>\n",
       "      <td>0.053237</td>\n",
       "      <td>0.417125</td>\n",
       "      <td>0.182960</td>\n",
       "      <td>0.157308</td>\n",
       "      <td>-0.193699</td>\n",
       "      <td>0.145064</td>\n",
       "      <td>0.006613</td>\n",
       "    </tr>\n",
       "    <tr>\n",
       "      <th>1</th>\n",
       "      <td>-0.158136</td>\n",
       "      <td>0.206288</td>\n",
       "      <td>0.098837</td>\n",
       "      <td>0.077805</td>\n",
       "      <td>0.088442</td>\n",
       "      <td>-0.423278</td>\n",
       "      <td>0.136787</td>\n",
       "      <td>0.415363</td>\n",
       "      <td>-0.232881</td>\n",
       "      <td>-0.091051</td>\n",
       "      <td>...</td>\n",
       "      <td>0.314665</td>\n",
       "      <td>0.120929</td>\n",
       "      <td>0.034650</td>\n",
       "      <td>0.040367</td>\n",
       "      <td>0.351016</td>\n",
       "      <td>0.155592</td>\n",
       "      <td>0.137464</td>\n",
       "      <td>-0.177634</td>\n",
       "      <td>0.132412</td>\n",
       "      <td>-0.000584</td>\n",
       "    </tr>\n",
       "    <tr>\n",
       "      <th>2</th>\n",
       "      <td>-0.181461</td>\n",
       "      <td>0.251296</td>\n",
       "      <td>0.122674</td>\n",
       "      <td>0.109218</td>\n",
       "      <td>0.079805</td>\n",
       "      <td>-0.521759</td>\n",
       "      <td>0.171689</td>\n",
       "      <td>0.468691</td>\n",
       "      <td>-0.283686</td>\n",
       "      <td>-0.134998</td>\n",
       "      <td>...</td>\n",
       "      <td>0.349708</td>\n",
       "      <td>0.150155</td>\n",
       "      <td>0.044228</td>\n",
       "      <td>0.040833</td>\n",
       "      <td>0.426301</td>\n",
       "      <td>0.168881</td>\n",
       "      <td>0.111171</td>\n",
       "      <td>-0.224256</td>\n",
       "      <td>0.172022</td>\n",
       "      <td>0.022945</td>\n",
       "    </tr>\n",
       "    <tr>\n",
       "      <th>3</th>\n",
       "      <td>-0.236513</td>\n",
       "      <td>0.321809</td>\n",
       "      <td>0.153439</td>\n",
       "      <td>0.122647</td>\n",
       "      <td>0.131486</td>\n",
       "      <td>-0.666426</td>\n",
       "      <td>0.225869</td>\n",
       "      <td>0.651303</td>\n",
       "      <td>-0.369700</td>\n",
       "      <td>-0.146344</td>\n",
       "      <td>...</td>\n",
       "      <td>0.487983</td>\n",
       "      <td>0.197203</td>\n",
       "      <td>0.057233</td>\n",
       "      <td>0.078637</td>\n",
       "      <td>0.557533</td>\n",
       "      <td>0.257340</td>\n",
       "      <td>0.230564</td>\n",
       "      <td>-0.267630</td>\n",
       "      <td>0.197915</td>\n",
       "      <td>-0.000310</td>\n",
       "    </tr>\n",
       "    <tr>\n",
       "      <th>4</th>\n",
       "      <td>-0.201154</td>\n",
       "      <td>0.263933</td>\n",
       "      <td>0.135753</td>\n",
       "      <td>0.099299</td>\n",
       "      <td>0.117644</td>\n",
       "      <td>-0.562669</td>\n",
       "      <td>0.188795</td>\n",
       "      <td>0.551348</td>\n",
       "      <td>-0.314562</td>\n",
       "      <td>-0.129570</td>\n",
       "      <td>...</td>\n",
       "      <td>0.414122</td>\n",
       "      <td>0.166787</td>\n",
       "      <td>0.052223</td>\n",
       "      <td>0.069639</td>\n",
       "      <td>0.474087</td>\n",
       "      <td>0.218538</td>\n",
       "      <td>0.190127</td>\n",
       "      <td>-0.232033</td>\n",
       "      <td>0.161079</td>\n",
       "      <td>-0.003231</td>\n",
       "    </tr>\n",
       "  </tbody>\n",
       "</table>\n",
       "<p>5 rows × 100 columns</p>\n",
       "</div>"
      ],
      "text/plain": [
       "         0         1         2         3         4         5         6   \\\n",
       "0 -0.170072  0.238321  0.116029  0.091164  0.094253 -0.488225  0.171596   \n",
       "1 -0.158136  0.206288  0.098837  0.077805  0.088442 -0.423278  0.136787   \n",
       "2 -0.181461  0.251296  0.122674  0.109218  0.079805 -0.521759  0.171689   \n",
       "3 -0.236513  0.321809  0.153439  0.122647  0.131486 -0.666426  0.225869   \n",
       "4 -0.201154  0.263933  0.135753  0.099299  0.117644 -0.562669  0.188795   \n",
       "\n",
       "         7         8         9   ...        90        91        92        93  \\\n",
       "0  0.472685 -0.268256 -0.112176  ...  0.353995  0.148204  0.045717  0.053237   \n",
       "1  0.415363 -0.232881 -0.091051  ...  0.314665  0.120929  0.034650  0.040367   \n",
       "2  0.468691 -0.283686 -0.134998  ...  0.349708  0.150155  0.044228  0.040833   \n",
       "3  0.651303 -0.369700 -0.146344  ...  0.487983  0.197203  0.057233  0.078637   \n",
       "4  0.551348 -0.314562 -0.129570  ...  0.414122  0.166787  0.052223  0.069639   \n",
       "\n",
       "         94        95        96        97        98        99  \n",
       "0  0.417125  0.182960  0.157308 -0.193699  0.145064  0.006613  \n",
       "1  0.351016  0.155592  0.137464 -0.177634  0.132412 -0.000584  \n",
       "2  0.426301  0.168881  0.111171 -0.224256  0.172022  0.022945  \n",
       "3  0.557533  0.257340  0.230564 -0.267630  0.197915 -0.000310  \n",
       "4  0.474087  0.218538  0.190127 -0.232033  0.161079 -0.003231  \n",
       "\n",
       "[5 rows x 100 columns]"
      ]
     },
     "execution_count": 140,
     "metadata": {},
     "output_type": "execute_result"
    }
   ],
   "source": [
    "df.head()"
   ]
  },
  {
   "cell_type": "code",
   "execution_count": 141,
   "id": "fd0f5be4",
   "metadata": {},
   "outputs": [],
   "source": [
    "df['Output']=y"
   ]
  },
  {
   "cell_type": "code",
   "execution_count": 142,
   "id": "a7e46cc2",
   "metadata": {},
   "outputs": [
    {
     "data": {
      "text/html": [
       "<div>\n",
       "<style scoped>\n",
       "    .dataframe tbody tr th:only-of-type {\n",
       "        vertical-align: middle;\n",
       "    }\n",
       "\n",
       "    .dataframe tbody tr th {\n",
       "        vertical-align: top;\n",
       "    }\n",
       "\n",
       "    .dataframe thead th {\n",
       "        text-align: right;\n",
       "    }\n",
       "</style>\n",
       "<table border=\"1\" class=\"dataframe\">\n",
       "  <thead>\n",
       "    <tr style=\"text-align: right;\">\n",
       "      <th></th>\n",
       "      <th>0</th>\n",
       "      <th>1</th>\n",
       "      <th>2</th>\n",
       "      <th>3</th>\n",
       "      <th>4</th>\n",
       "      <th>5</th>\n",
       "      <th>6</th>\n",
       "      <th>7</th>\n",
       "      <th>8</th>\n",
       "      <th>9</th>\n",
       "      <th>...</th>\n",
       "      <th>91</th>\n",
       "      <th>92</th>\n",
       "      <th>93</th>\n",
       "      <th>94</th>\n",
       "      <th>95</th>\n",
       "      <th>96</th>\n",
       "      <th>97</th>\n",
       "      <th>98</th>\n",
       "      <th>99</th>\n",
       "      <th>Output</th>\n",
       "    </tr>\n",
       "  </thead>\n",
       "  <tbody>\n",
       "    <tr>\n",
       "      <th>0</th>\n",
       "      <td>-0.170072</td>\n",
       "      <td>0.238321</td>\n",
       "      <td>0.116029</td>\n",
       "      <td>0.091164</td>\n",
       "      <td>0.094253</td>\n",
       "      <td>-0.488225</td>\n",
       "      <td>0.171596</td>\n",
       "      <td>0.472685</td>\n",
       "      <td>-0.268256</td>\n",
       "      <td>-0.112176</td>\n",
       "      <td>...</td>\n",
       "      <td>0.148204</td>\n",
       "      <td>0.045717</td>\n",
       "      <td>0.053237</td>\n",
       "      <td>0.417125</td>\n",
       "      <td>0.182960</td>\n",
       "      <td>0.157308</td>\n",
       "      <td>-0.193699</td>\n",
       "      <td>0.145064</td>\n",
       "      <td>0.006613</td>\n",
       "      <td>True</td>\n",
       "    </tr>\n",
       "    <tr>\n",
       "      <th>1</th>\n",
       "      <td>-0.158136</td>\n",
       "      <td>0.206288</td>\n",
       "      <td>0.098837</td>\n",
       "      <td>0.077805</td>\n",
       "      <td>0.088442</td>\n",
       "      <td>-0.423278</td>\n",
       "      <td>0.136787</td>\n",
       "      <td>0.415363</td>\n",
       "      <td>-0.232881</td>\n",
       "      <td>-0.091051</td>\n",
       "      <td>...</td>\n",
       "      <td>0.120929</td>\n",
       "      <td>0.034650</td>\n",
       "      <td>0.040367</td>\n",
       "      <td>0.351016</td>\n",
       "      <td>0.155592</td>\n",
       "      <td>0.137464</td>\n",
       "      <td>-0.177634</td>\n",
       "      <td>0.132412</td>\n",
       "      <td>-0.000584</td>\n",
       "      <td>True</td>\n",
       "    </tr>\n",
       "    <tr>\n",
       "      <th>2</th>\n",
       "      <td>-0.181461</td>\n",
       "      <td>0.251296</td>\n",
       "      <td>0.122674</td>\n",
       "      <td>0.109218</td>\n",
       "      <td>0.079805</td>\n",
       "      <td>-0.521759</td>\n",
       "      <td>0.171689</td>\n",
       "      <td>0.468691</td>\n",
       "      <td>-0.283686</td>\n",
       "      <td>-0.134998</td>\n",
       "      <td>...</td>\n",
       "      <td>0.150155</td>\n",
       "      <td>0.044228</td>\n",
       "      <td>0.040833</td>\n",
       "      <td>0.426301</td>\n",
       "      <td>0.168881</td>\n",
       "      <td>0.111171</td>\n",
       "      <td>-0.224256</td>\n",
       "      <td>0.172022</td>\n",
       "      <td>0.022945</td>\n",
       "      <td>False</td>\n",
       "    </tr>\n",
       "    <tr>\n",
       "      <th>3</th>\n",
       "      <td>-0.236513</td>\n",
       "      <td>0.321809</td>\n",
       "      <td>0.153439</td>\n",
       "      <td>0.122647</td>\n",
       "      <td>0.131486</td>\n",
       "      <td>-0.666426</td>\n",
       "      <td>0.225869</td>\n",
       "      <td>0.651303</td>\n",
       "      <td>-0.369700</td>\n",
       "      <td>-0.146344</td>\n",
       "      <td>...</td>\n",
       "      <td>0.197203</td>\n",
       "      <td>0.057233</td>\n",
       "      <td>0.078637</td>\n",
       "      <td>0.557533</td>\n",
       "      <td>0.257340</td>\n",
       "      <td>0.230564</td>\n",
       "      <td>-0.267630</td>\n",
       "      <td>0.197915</td>\n",
       "      <td>-0.000310</td>\n",
       "      <td>True</td>\n",
       "    </tr>\n",
       "    <tr>\n",
       "      <th>4</th>\n",
       "      <td>-0.201154</td>\n",
       "      <td>0.263933</td>\n",
       "      <td>0.135753</td>\n",
       "      <td>0.099299</td>\n",
       "      <td>0.117644</td>\n",
       "      <td>-0.562669</td>\n",
       "      <td>0.188795</td>\n",
       "      <td>0.551348</td>\n",
       "      <td>-0.314562</td>\n",
       "      <td>-0.129570</td>\n",
       "      <td>...</td>\n",
       "      <td>0.166787</td>\n",
       "      <td>0.052223</td>\n",
       "      <td>0.069639</td>\n",
       "      <td>0.474087</td>\n",
       "      <td>0.218538</td>\n",
       "      <td>0.190127</td>\n",
       "      <td>-0.232033</td>\n",
       "      <td>0.161079</td>\n",
       "      <td>-0.003231</td>\n",
       "      <td>True</td>\n",
       "    </tr>\n",
       "  </tbody>\n",
       "</table>\n",
       "<p>5 rows × 101 columns</p>\n",
       "</div>"
      ],
      "text/plain": [
       "          0         1         2         3         4         5         6  \\\n",
       "0 -0.170072  0.238321  0.116029  0.091164  0.094253 -0.488225  0.171596   \n",
       "1 -0.158136  0.206288  0.098837  0.077805  0.088442 -0.423278  0.136787   \n",
       "2 -0.181461  0.251296  0.122674  0.109218  0.079805 -0.521759  0.171689   \n",
       "3 -0.236513  0.321809  0.153439  0.122647  0.131486 -0.666426  0.225869   \n",
       "4 -0.201154  0.263933  0.135753  0.099299  0.117644 -0.562669  0.188795   \n",
       "\n",
       "          7         8         9  ...        91        92        93        94  \\\n",
       "0  0.472685 -0.268256 -0.112176  ...  0.148204  0.045717  0.053237  0.417125   \n",
       "1  0.415363 -0.232881 -0.091051  ...  0.120929  0.034650  0.040367  0.351016   \n",
       "2  0.468691 -0.283686 -0.134998  ...  0.150155  0.044228  0.040833  0.426301   \n",
       "3  0.651303 -0.369700 -0.146344  ...  0.197203  0.057233  0.078637  0.557533   \n",
       "4  0.551348 -0.314562 -0.129570  ...  0.166787  0.052223  0.069639  0.474087   \n",
       "\n",
       "         95        96        97        98        99  Output  \n",
       "0  0.182960  0.157308 -0.193699  0.145064  0.006613    True  \n",
       "1  0.155592  0.137464 -0.177634  0.132412 -0.000584    True  \n",
       "2  0.168881  0.111171 -0.224256  0.172022  0.022945   False  \n",
       "3  0.257340  0.230564 -0.267630  0.197915 -0.000310    True  \n",
       "4  0.218538  0.190127 -0.232033  0.161079 -0.003231    True  \n",
       "\n",
       "[5 rows x 101 columns]"
      ]
     },
     "execution_count": 142,
     "metadata": {},
     "output_type": "execute_result"
    }
   ],
   "source": [
    "df.head()"
   ]
  },
  {
   "cell_type": "code",
   "execution_count": 143,
   "id": "d58af88d",
   "metadata": {},
   "outputs": [],
   "source": [
    "df.dropna(inplace=True)"
   ]
  },
  {
   "cell_type": "code",
   "execution_count": 144,
   "id": "03607fc7",
   "metadata": {},
   "outputs": [],
   "source": [
    "#df.isnull().sum()"
   ]
  },
  {
   "cell_type": "code",
   "execution_count": 145,
   "id": "bb58e962",
   "metadata": {},
   "outputs": [],
   "source": [
    "## Independent Feature\n",
    "X=df"
   ]
  },
  {
   "cell_type": "code",
   "execution_count": 146,
   "id": "9e11d4db",
   "metadata": {},
   "outputs": [
    {
     "data": {
      "text/plain": [
       "0         0\n",
       "1         0\n",
       "2         0\n",
       "3         0\n",
       "4         0\n",
       "         ..\n",
       "96        0\n",
       "97        0\n",
       "98        0\n",
       "99        0\n",
       "Output    0\n",
       "Length: 101, dtype: int64"
      ]
     },
     "execution_count": 146,
     "metadata": {},
     "output_type": "execute_result"
    }
   ],
   "source": [
    "X.isnull().sum()"
   ]
  },
  {
   "cell_type": "code",
   "execution_count": 147,
   "id": "ca08a750",
   "metadata": {},
   "outputs": [],
   "source": [
    "y=df['Output']"
   ]
  },
  {
   "cell_type": "code",
   "execution_count": 148,
   "id": "cdcba669",
   "metadata": {},
   "outputs": [],
   "source": [
    "## Train Test Split\n",
    "from sklearn.model_selection import train_test_split\n",
    "X_train,X_test,y_train,y_test=train_test_split(X,y,test_size=0.20)"
   ]
  },
  {
   "cell_type": "code",
   "execution_count": 149,
   "id": "916fee6d",
   "metadata": {},
   "outputs": [
    {
     "data": {
      "text/html": [
       "<div>\n",
       "<style scoped>\n",
       "    .dataframe tbody tr th:only-of-type {\n",
       "        vertical-align: middle;\n",
       "    }\n",
       "\n",
       "    .dataframe tbody tr th {\n",
       "        vertical-align: top;\n",
       "    }\n",
       "\n",
       "    .dataframe thead th {\n",
       "        text-align: right;\n",
       "    }\n",
       "</style>\n",
       "<table border=\"1\" class=\"dataframe\">\n",
       "  <thead>\n",
       "    <tr style=\"text-align: right;\">\n",
       "      <th></th>\n",
       "      <th>0</th>\n",
       "      <th>1</th>\n",
       "      <th>2</th>\n",
       "      <th>3</th>\n",
       "      <th>4</th>\n",
       "      <th>5</th>\n",
       "      <th>6</th>\n",
       "      <th>7</th>\n",
       "      <th>8</th>\n",
       "      <th>9</th>\n",
       "      <th>...</th>\n",
       "      <th>91</th>\n",
       "      <th>92</th>\n",
       "      <th>93</th>\n",
       "      <th>94</th>\n",
       "      <th>95</th>\n",
       "      <th>96</th>\n",
       "      <th>97</th>\n",
       "      <th>98</th>\n",
       "      <th>99</th>\n",
       "      <th>Output</th>\n",
       "    </tr>\n",
       "  </thead>\n",
       "  <tbody>\n",
       "    <tr>\n",
       "      <th>4350</th>\n",
       "      <td>-0.190970</td>\n",
       "      <td>0.267104</td>\n",
       "      <td>0.126557</td>\n",
       "      <td>0.098083</td>\n",
       "      <td>0.097910</td>\n",
       "      <td>-0.540069</td>\n",
       "      <td>0.189256</td>\n",
       "      <td>0.525421</td>\n",
       "      <td>-0.299440</td>\n",
       "      <td>-0.128409</td>\n",
       "      <td>...</td>\n",
       "      <td>0.169774</td>\n",
       "      <td>0.061578</td>\n",
       "      <td>0.066496</td>\n",
       "      <td>0.465680</td>\n",
       "      <td>0.212258</td>\n",
       "      <td>0.182379</td>\n",
       "      <td>-0.209439</td>\n",
       "      <td>0.153881</td>\n",
       "      <td>0.000345</td>\n",
       "      <td>True</td>\n",
       "    </tr>\n",
       "    <tr>\n",
       "      <th>25</th>\n",
       "      <td>-0.162982</td>\n",
       "      <td>0.214307</td>\n",
       "      <td>0.108158</td>\n",
       "      <td>0.080389</td>\n",
       "      <td>0.089209</td>\n",
       "      <td>-0.455714</td>\n",
       "      <td>0.149784</td>\n",
       "      <td>0.439397</td>\n",
       "      <td>-0.248981</td>\n",
       "      <td>-0.106291</td>\n",
       "      <td>...</td>\n",
       "      <td>0.133393</td>\n",
       "      <td>0.044859</td>\n",
       "      <td>0.052341</td>\n",
       "      <td>0.378333</td>\n",
       "      <td>0.177719</td>\n",
       "      <td>0.145262</td>\n",
       "      <td>-0.184575</td>\n",
       "      <td>0.129832</td>\n",
       "      <td>0.001693</td>\n",
       "      <td>True</td>\n",
       "    </tr>\n",
       "    <tr>\n",
       "      <th>2117</th>\n",
       "      <td>-0.188519</td>\n",
       "      <td>0.249629</td>\n",
       "      <td>0.127040</td>\n",
       "      <td>0.088497</td>\n",
       "      <td>0.105920</td>\n",
       "      <td>-0.519454</td>\n",
       "      <td>0.180770</td>\n",
       "      <td>0.504822</td>\n",
       "      <td>-0.279042</td>\n",
       "      <td>-0.118441</td>\n",
       "      <td>...</td>\n",
       "      <td>0.161550</td>\n",
       "      <td>0.061363</td>\n",
       "      <td>0.063056</td>\n",
       "      <td>0.452793</td>\n",
       "      <td>0.220289</td>\n",
       "      <td>0.181663</td>\n",
       "      <td>-0.206807</td>\n",
       "      <td>0.145469</td>\n",
       "      <td>0.000676</td>\n",
       "      <td>True</td>\n",
       "    </tr>\n",
       "    <tr>\n",
       "      <th>1833</th>\n",
       "      <td>-0.225829</td>\n",
       "      <td>0.301233</td>\n",
       "      <td>0.144638</td>\n",
       "      <td>0.104343</td>\n",
       "      <td>0.125376</td>\n",
       "      <td>-0.646672</td>\n",
       "      <td>0.216887</td>\n",
       "      <td>0.639028</td>\n",
       "      <td>-0.359274</td>\n",
       "      <td>-0.148745</td>\n",
       "      <td>...</td>\n",
       "      <td>0.197287</td>\n",
       "      <td>0.065330</td>\n",
       "      <td>0.071479</td>\n",
       "      <td>0.538773</td>\n",
       "      <td>0.253498</td>\n",
       "      <td>0.219811</td>\n",
       "      <td>-0.252653</td>\n",
       "      <td>0.182323</td>\n",
       "      <td>-0.011086</td>\n",
       "      <td>True</td>\n",
       "    </tr>\n",
       "    <tr>\n",
       "      <th>2253</th>\n",
       "      <td>-0.134294</td>\n",
       "      <td>0.175980</td>\n",
       "      <td>0.084191</td>\n",
       "      <td>0.063511</td>\n",
       "      <td>0.075015</td>\n",
       "      <td>-0.358243</td>\n",
       "      <td>0.119848</td>\n",
       "      <td>0.351706</td>\n",
       "      <td>-0.196653</td>\n",
       "      <td>-0.078402</td>\n",
       "      <td>...</td>\n",
       "      <td>0.103534</td>\n",
       "      <td>0.030825</td>\n",
       "      <td>0.042293</td>\n",
       "      <td>0.307364</td>\n",
       "      <td>0.150134</td>\n",
       "      <td>0.122261</td>\n",
       "      <td>-0.147283</td>\n",
       "      <td>0.100983</td>\n",
       "      <td>0.003383</td>\n",
       "      <td>True</td>\n",
       "    </tr>\n",
       "  </tbody>\n",
       "</table>\n",
       "<p>5 rows × 101 columns</p>\n",
       "</div>"
      ],
      "text/plain": [
       "             0         1         2         3         4         5         6  \\\n",
       "4350 -0.190970  0.267104  0.126557  0.098083  0.097910 -0.540069  0.189256   \n",
       "25   -0.162982  0.214307  0.108158  0.080389  0.089209 -0.455714  0.149784   \n",
       "2117 -0.188519  0.249629  0.127040  0.088497  0.105920 -0.519454  0.180770   \n",
       "1833 -0.225829  0.301233  0.144638  0.104343  0.125376 -0.646672  0.216887   \n",
       "2253 -0.134294  0.175980  0.084191  0.063511  0.075015 -0.358243  0.119848   \n",
       "\n",
       "             7         8         9  ...        91        92        93  \\\n",
       "4350  0.525421 -0.299440 -0.128409  ...  0.169774  0.061578  0.066496   \n",
       "25    0.439397 -0.248981 -0.106291  ...  0.133393  0.044859  0.052341   \n",
       "2117  0.504822 -0.279042 -0.118441  ...  0.161550  0.061363  0.063056   \n",
       "1833  0.639028 -0.359274 -0.148745  ...  0.197287  0.065330  0.071479   \n",
       "2253  0.351706 -0.196653 -0.078402  ...  0.103534  0.030825  0.042293   \n",
       "\n",
       "            94        95        96        97        98        99  Output  \n",
       "4350  0.465680  0.212258  0.182379 -0.209439  0.153881  0.000345    True  \n",
       "25    0.378333  0.177719  0.145262 -0.184575  0.129832  0.001693    True  \n",
       "2117  0.452793  0.220289  0.181663 -0.206807  0.145469  0.000676    True  \n",
       "1833  0.538773  0.253498  0.219811 -0.252653  0.182323 -0.011086    True  \n",
       "2253  0.307364  0.150134  0.122261 -0.147283  0.100983  0.003383    True  \n",
       "\n",
       "[5 rows x 101 columns]"
      ]
     },
     "execution_count": 149,
     "metadata": {},
     "output_type": "execute_result"
    }
   ],
   "source": [
    "X_train.head()"
   ]
  },
  {
   "cell_type": "code",
   "execution_count": 150,
   "id": "d7f7ff60",
   "metadata": {},
   "outputs": [
    {
     "data": {
      "text/plain": [
       "4350    True\n",
       "25      True\n",
       "2117    True\n",
       "1833    True\n",
       "2253    True\n",
       "Name: Output, dtype: bool"
      ]
     },
     "execution_count": 150,
     "metadata": {},
     "output_type": "execute_result"
    }
   ],
   "source": [
    "y_train[:5]"
   ]
  },
  {
   "cell_type": "code",
   "execution_count": 151,
   "id": "7be64251",
   "metadata": {},
   "outputs": [],
   "source": [
    "from sklearn.ensemble import RandomForestClassifier\n",
    "classifier=RandomForestClassifier()"
   ]
  },
  {
   "cell_type": "code",
   "execution_count": 152,
   "id": "94952921",
   "metadata": {},
   "outputs": [
    {
     "data": {
      "text/html": [
       "<style>#sk-container-id-2 {\n",
       "  /* Definition of color scheme common for light and dark mode */\n",
       "  --sklearn-color-text: black;\n",
       "  --sklearn-color-line: gray;\n",
       "  /* Definition of color scheme for unfitted estimators */\n",
       "  --sklearn-color-unfitted-level-0: #fff5e6;\n",
       "  --sklearn-color-unfitted-level-1: #f6e4d2;\n",
       "  --sklearn-color-unfitted-level-2: #ffe0b3;\n",
       "  --sklearn-color-unfitted-level-3: chocolate;\n",
       "  /* Definition of color scheme for fitted estimators */\n",
       "  --sklearn-color-fitted-level-0: #f0f8ff;\n",
       "  --sklearn-color-fitted-level-1: #d4ebff;\n",
       "  --sklearn-color-fitted-level-2: #b3dbfd;\n",
       "  --sklearn-color-fitted-level-3: cornflowerblue;\n",
       "\n",
       "  /* Specific color for light theme */\n",
       "  --sklearn-color-text-on-default-background: var(--sg-text-color, var(--theme-code-foreground, var(--jp-content-font-color1, black)));\n",
       "  --sklearn-color-background: var(--sg-background-color, var(--theme-background, var(--jp-layout-color0, white)));\n",
       "  --sklearn-color-border-box: var(--sg-text-color, var(--theme-code-foreground, var(--jp-content-font-color1, black)));\n",
       "  --sklearn-color-icon: #696969;\n",
       "\n",
       "  @media (prefers-color-scheme: dark) {\n",
       "    /* Redefinition of color scheme for dark theme */\n",
       "    --sklearn-color-text-on-default-background: var(--sg-text-color, var(--theme-code-foreground, var(--jp-content-font-color1, white)));\n",
       "    --sklearn-color-background: var(--sg-background-color, var(--theme-background, var(--jp-layout-color0, #111)));\n",
       "    --sklearn-color-border-box: var(--sg-text-color, var(--theme-code-foreground, var(--jp-content-font-color1, white)));\n",
       "    --sklearn-color-icon: #878787;\n",
       "  }\n",
       "}\n",
       "\n",
       "#sk-container-id-2 {\n",
       "  color: var(--sklearn-color-text);\n",
       "}\n",
       "\n",
       "#sk-container-id-2 pre {\n",
       "  padding: 0;\n",
       "}\n",
       "\n",
       "#sk-container-id-2 input.sk-hidden--visually {\n",
       "  border: 0;\n",
       "  clip: rect(1px 1px 1px 1px);\n",
       "  clip: rect(1px, 1px, 1px, 1px);\n",
       "  height: 1px;\n",
       "  margin: -1px;\n",
       "  overflow: hidden;\n",
       "  padding: 0;\n",
       "  position: absolute;\n",
       "  width: 1px;\n",
       "}\n",
       "\n",
       "#sk-container-id-2 div.sk-dashed-wrapped {\n",
       "  border: 1px dashed var(--sklearn-color-line);\n",
       "  margin: 0 0.4em 0.5em 0.4em;\n",
       "  box-sizing: border-box;\n",
       "  padding-bottom: 0.4em;\n",
       "  background-color: var(--sklearn-color-background);\n",
       "}\n",
       "\n",
       "#sk-container-id-2 div.sk-container {\n",
       "  /* jupyter's `normalize.less` sets `[hidden] { display: none; }`\n",
       "     but bootstrap.min.css set `[hidden] { display: none !important; }`\n",
       "     so we also need the `!important` here to be able to override the\n",
       "     default hidden behavior on the sphinx rendered scikit-learn.org.\n",
       "     See: https://github.com/scikit-learn/scikit-learn/issues/21755 */\n",
       "  display: inline-block !important;\n",
       "  position: relative;\n",
       "}\n",
       "\n",
       "#sk-container-id-2 div.sk-text-repr-fallback {\n",
       "  display: none;\n",
       "}\n",
       "\n",
       "div.sk-parallel-item,\n",
       "div.sk-serial,\n",
       "div.sk-item {\n",
       "  /* draw centered vertical line to link estimators */\n",
       "  background-image: linear-gradient(var(--sklearn-color-text-on-default-background), var(--sklearn-color-text-on-default-background));\n",
       "  background-size: 2px 100%;\n",
       "  background-repeat: no-repeat;\n",
       "  background-position: center center;\n",
       "}\n",
       "\n",
       "/* Parallel-specific style estimator block */\n",
       "\n",
       "#sk-container-id-2 div.sk-parallel-item::after {\n",
       "  content: \"\";\n",
       "  width: 100%;\n",
       "  border-bottom: 2px solid var(--sklearn-color-text-on-default-background);\n",
       "  flex-grow: 1;\n",
       "}\n",
       "\n",
       "#sk-container-id-2 div.sk-parallel {\n",
       "  display: flex;\n",
       "  align-items: stretch;\n",
       "  justify-content: center;\n",
       "  background-color: var(--sklearn-color-background);\n",
       "  position: relative;\n",
       "}\n",
       "\n",
       "#sk-container-id-2 div.sk-parallel-item {\n",
       "  display: flex;\n",
       "  flex-direction: column;\n",
       "}\n",
       "\n",
       "#sk-container-id-2 div.sk-parallel-item:first-child::after {\n",
       "  align-self: flex-end;\n",
       "  width: 50%;\n",
       "}\n",
       "\n",
       "#sk-container-id-2 div.sk-parallel-item:last-child::after {\n",
       "  align-self: flex-start;\n",
       "  width: 50%;\n",
       "}\n",
       "\n",
       "#sk-container-id-2 div.sk-parallel-item:only-child::after {\n",
       "  width: 0;\n",
       "}\n",
       "\n",
       "/* Serial-specific style estimator block */\n",
       "\n",
       "#sk-container-id-2 div.sk-serial {\n",
       "  display: flex;\n",
       "  flex-direction: column;\n",
       "  align-items: center;\n",
       "  background-color: var(--sklearn-color-background);\n",
       "  padding-right: 1em;\n",
       "  padding-left: 1em;\n",
       "}\n",
       "\n",
       "\n",
       "/* Toggleable style: style used for estimator/Pipeline/ColumnTransformer box that is\n",
       "clickable and can be expanded/collapsed.\n",
       "- Pipeline and ColumnTransformer use this feature and define the default style\n",
       "- Estimators will overwrite some part of the style using the `sk-estimator` class\n",
       "*/\n",
       "\n",
       "/* Pipeline and ColumnTransformer style (default) */\n",
       "\n",
       "#sk-container-id-2 div.sk-toggleable {\n",
       "  /* Default theme specific background. It is overwritten whether we have a\n",
       "  specific estimator or a Pipeline/ColumnTransformer */\n",
       "  background-color: var(--sklearn-color-background);\n",
       "}\n",
       "\n",
       "/* Toggleable label */\n",
       "#sk-container-id-2 label.sk-toggleable__label {\n",
       "  cursor: pointer;\n",
       "  display: block;\n",
       "  width: 100%;\n",
       "  margin-bottom: 0;\n",
       "  padding: 0.5em;\n",
       "  box-sizing: border-box;\n",
       "  text-align: center;\n",
       "}\n",
       "\n",
       "#sk-container-id-2 label.sk-toggleable__label-arrow:before {\n",
       "  /* Arrow on the left of the label */\n",
       "  content: \"▸\";\n",
       "  float: left;\n",
       "  margin-right: 0.25em;\n",
       "  color: var(--sklearn-color-icon);\n",
       "}\n",
       "\n",
       "#sk-container-id-2 label.sk-toggleable__label-arrow:hover:before {\n",
       "  color: var(--sklearn-color-text);\n",
       "}\n",
       "\n",
       "/* Toggleable content - dropdown */\n",
       "\n",
       "#sk-container-id-2 div.sk-toggleable__content {\n",
       "  max-height: 0;\n",
       "  max-width: 0;\n",
       "  overflow: hidden;\n",
       "  text-align: left;\n",
       "  /* unfitted */\n",
       "  background-color: var(--sklearn-color-unfitted-level-0);\n",
       "}\n",
       "\n",
       "#sk-container-id-2 div.sk-toggleable__content.fitted {\n",
       "  /* fitted */\n",
       "  background-color: var(--sklearn-color-fitted-level-0);\n",
       "}\n",
       "\n",
       "#sk-container-id-2 div.sk-toggleable__content pre {\n",
       "  margin: 0.2em;\n",
       "  border-radius: 0.25em;\n",
       "  color: var(--sklearn-color-text);\n",
       "  /* unfitted */\n",
       "  background-color: var(--sklearn-color-unfitted-level-0);\n",
       "}\n",
       "\n",
       "#sk-container-id-2 div.sk-toggleable__content.fitted pre {\n",
       "  /* unfitted */\n",
       "  background-color: var(--sklearn-color-fitted-level-0);\n",
       "}\n",
       "\n",
       "#sk-container-id-2 input.sk-toggleable__control:checked~div.sk-toggleable__content {\n",
       "  /* Expand drop-down */\n",
       "  max-height: 200px;\n",
       "  max-width: 100%;\n",
       "  overflow: auto;\n",
       "}\n",
       "\n",
       "#sk-container-id-2 input.sk-toggleable__control:checked~label.sk-toggleable__label-arrow:before {\n",
       "  content: \"▾\";\n",
       "}\n",
       "\n",
       "/* Pipeline/ColumnTransformer-specific style */\n",
       "\n",
       "#sk-container-id-2 div.sk-label input.sk-toggleable__control:checked~label.sk-toggleable__label {\n",
       "  color: var(--sklearn-color-text);\n",
       "  background-color: var(--sklearn-color-unfitted-level-2);\n",
       "}\n",
       "\n",
       "#sk-container-id-2 div.sk-label.fitted input.sk-toggleable__control:checked~label.sk-toggleable__label {\n",
       "  background-color: var(--sklearn-color-fitted-level-2);\n",
       "}\n",
       "\n",
       "/* Estimator-specific style */\n",
       "\n",
       "/* Colorize estimator box */\n",
       "#sk-container-id-2 div.sk-estimator input.sk-toggleable__control:checked~label.sk-toggleable__label {\n",
       "  /* unfitted */\n",
       "  background-color: var(--sklearn-color-unfitted-level-2);\n",
       "}\n",
       "\n",
       "#sk-container-id-2 div.sk-estimator.fitted input.sk-toggleable__control:checked~label.sk-toggleable__label {\n",
       "  /* fitted */\n",
       "  background-color: var(--sklearn-color-fitted-level-2);\n",
       "}\n",
       "\n",
       "#sk-container-id-2 div.sk-label label.sk-toggleable__label,\n",
       "#sk-container-id-2 div.sk-label label {\n",
       "  /* The background is the default theme color */\n",
       "  color: var(--sklearn-color-text-on-default-background);\n",
       "}\n",
       "\n",
       "/* On hover, darken the color of the background */\n",
       "#sk-container-id-2 div.sk-label:hover label.sk-toggleable__label {\n",
       "  color: var(--sklearn-color-text);\n",
       "  background-color: var(--sklearn-color-unfitted-level-2);\n",
       "}\n",
       "\n",
       "/* Label box, darken color on hover, fitted */\n",
       "#sk-container-id-2 div.sk-label.fitted:hover label.sk-toggleable__label.fitted {\n",
       "  color: var(--sklearn-color-text);\n",
       "  background-color: var(--sklearn-color-fitted-level-2);\n",
       "}\n",
       "\n",
       "/* Estimator label */\n",
       "\n",
       "#sk-container-id-2 div.sk-label label {\n",
       "  font-family: monospace;\n",
       "  font-weight: bold;\n",
       "  display: inline-block;\n",
       "  line-height: 1.2em;\n",
       "}\n",
       "\n",
       "#sk-container-id-2 div.sk-label-container {\n",
       "  text-align: center;\n",
       "}\n",
       "\n",
       "/* Estimator-specific */\n",
       "#sk-container-id-2 div.sk-estimator {\n",
       "  font-family: monospace;\n",
       "  border: 1px dotted var(--sklearn-color-border-box);\n",
       "  border-radius: 0.25em;\n",
       "  box-sizing: border-box;\n",
       "  margin-bottom: 0.5em;\n",
       "  /* unfitted */\n",
       "  background-color: var(--sklearn-color-unfitted-level-0);\n",
       "}\n",
       "\n",
       "#sk-container-id-2 div.sk-estimator.fitted {\n",
       "  /* fitted */\n",
       "  background-color: var(--sklearn-color-fitted-level-0);\n",
       "}\n",
       "\n",
       "/* on hover */\n",
       "#sk-container-id-2 div.sk-estimator:hover {\n",
       "  /* unfitted */\n",
       "  background-color: var(--sklearn-color-unfitted-level-2);\n",
       "}\n",
       "\n",
       "#sk-container-id-2 div.sk-estimator.fitted:hover {\n",
       "  /* fitted */\n",
       "  background-color: var(--sklearn-color-fitted-level-2);\n",
       "}\n",
       "\n",
       "/* Specification for estimator info (e.g. \"i\" and \"?\") */\n",
       "\n",
       "/* Common style for \"i\" and \"?\" */\n",
       "\n",
       ".sk-estimator-doc-link,\n",
       "a:link.sk-estimator-doc-link,\n",
       "a:visited.sk-estimator-doc-link {\n",
       "  float: right;\n",
       "  font-size: smaller;\n",
       "  line-height: 1em;\n",
       "  font-family: monospace;\n",
       "  background-color: var(--sklearn-color-background);\n",
       "  border-radius: 1em;\n",
       "  height: 1em;\n",
       "  width: 1em;\n",
       "  text-decoration: none !important;\n",
       "  margin-left: 1ex;\n",
       "  /* unfitted */\n",
       "  border: var(--sklearn-color-unfitted-level-1) 1pt solid;\n",
       "  color: var(--sklearn-color-unfitted-level-1);\n",
       "}\n",
       "\n",
       ".sk-estimator-doc-link.fitted,\n",
       "a:link.sk-estimator-doc-link.fitted,\n",
       "a:visited.sk-estimator-doc-link.fitted {\n",
       "  /* fitted */\n",
       "  border: var(--sklearn-color-fitted-level-1) 1pt solid;\n",
       "  color: var(--sklearn-color-fitted-level-1);\n",
       "}\n",
       "\n",
       "/* On hover */\n",
       "div.sk-estimator:hover .sk-estimator-doc-link:hover,\n",
       ".sk-estimator-doc-link:hover,\n",
       "div.sk-label-container:hover .sk-estimator-doc-link:hover,\n",
       ".sk-estimator-doc-link:hover {\n",
       "  /* unfitted */\n",
       "  background-color: var(--sklearn-color-unfitted-level-3);\n",
       "  color: var(--sklearn-color-background);\n",
       "  text-decoration: none;\n",
       "}\n",
       "\n",
       "div.sk-estimator.fitted:hover .sk-estimator-doc-link.fitted:hover,\n",
       ".sk-estimator-doc-link.fitted:hover,\n",
       "div.sk-label-container:hover .sk-estimator-doc-link.fitted:hover,\n",
       ".sk-estimator-doc-link.fitted:hover {\n",
       "  /* fitted */\n",
       "  background-color: var(--sklearn-color-fitted-level-3);\n",
       "  color: var(--sklearn-color-background);\n",
       "  text-decoration: none;\n",
       "}\n",
       "\n",
       "/* Span, style for the box shown on hovering the info icon */\n",
       ".sk-estimator-doc-link span {\n",
       "  display: none;\n",
       "  z-index: 9999;\n",
       "  position: relative;\n",
       "  font-weight: normal;\n",
       "  right: .2ex;\n",
       "  padding: .5ex;\n",
       "  margin: .5ex;\n",
       "  width: min-content;\n",
       "  min-width: 20ex;\n",
       "  max-width: 50ex;\n",
       "  color: var(--sklearn-color-text);\n",
       "  box-shadow: 2pt 2pt 4pt #999;\n",
       "  /* unfitted */\n",
       "  background: var(--sklearn-color-unfitted-level-0);\n",
       "  border: .5pt solid var(--sklearn-color-unfitted-level-3);\n",
       "}\n",
       "\n",
       ".sk-estimator-doc-link.fitted span {\n",
       "  /* fitted */\n",
       "  background: var(--sklearn-color-fitted-level-0);\n",
       "  border: var(--sklearn-color-fitted-level-3);\n",
       "}\n",
       "\n",
       ".sk-estimator-doc-link:hover span {\n",
       "  display: block;\n",
       "}\n",
       "\n",
       "/* \"?\"-specific style due to the `<a>` HTML tag */\n",
       "\n",
       "#sk-container-id-2 a.estimator_doc_link {\n",
       "  float: right;\n",
       "  font-size: 1rem;\n",
       "  line-height: 1em;\n",
       "  font-family: monospace;\n",
       "  background-color: var(--sklearn-color-background);\n",
       "  border-radius: 1rem;\n",
       "  height: 1rem;\n",
       "  width: 1rem;\n",
       "  text-decoration: none;\n",
       "  /* unfitted */\n",
       "  color: var(--sklearn-color-unfitted-level-1);\n",
       "  border: var(--sklearn-color-unfitted-level-1) 1pt solid;\n",
       "}\n",
       "\n",
       "#sk-container-id-2 a.estimator_doc_link.fitted {\n",
       "  /* fitted */\n",
       "  border: var(--sklearn-color-fitted-level-1) 1pt solid;\n",
       "  color: var(--sklearn-color-fitted-level-1);\n",
       "}\n",
       "\n",
       "/* On hover */\n",
       "#sk-container-id-2 a.estimator_doc_link:hover {\n",
       "  /* unfitted */\n",
       "  background-color: var(--sklearn-color-unfitted-level-3);\n",
       "  color: var(--sklearn-color-background);\n",
       "  text-decoration: none;\n",
       "}\n",
       "\n",
       "#sk-container-id-2 a.estimator_doc_link.fitted:hover {\n",
       "  /* fitted */\n",
       "  background-color: var(--sklearn-color-fitted-level-3);\n",
       "}\n",
       "</style><div id=\"sk-container-id-2\" class=\"sk-top-container\"><div class=\"sk-text-repr-fallback\"><pre>RandomForestClassifier()</pre><b>In a Jupyter environment, please rerun this cell to show the HTML representation or trust the notebook. <br />On GitHub, the HTML representation is unable to render, please try loading this page with nbviewer.org.</b></div><div class=\"sk-container\" hidden><div class=\"sk-item\"><div class=\"sk-estimator fitted sk-toggleable\"><input class=\"sk-toggleable__control sk-hidden--visually\" id=\"sk-estimator-id-2\" type=\"checkbox\" checked><label for=\"sk-estimator-id-2\" class=\"sk-toggleable__label fitted sk-toggleable__label-arrow fitted\">&nbsp;&nbsp;RandomForestClassifier<a class=\"sk-estimator-doc-link fitted\" rel=\"noreferrer\" target=\"_blank\" href=\"https://scikit-learn.org/1.5/modules/generated/sklearn.ensemble.RandomForestClassifier.html\">?<span>Documentation for RandomForestClassifier</span></a><span class=\"sk-estimator-doc-link fitted\">i<span>Fitted</span></span></label><div class=\"sk-toggleable__content fitted\"><pre>RandomForestClassifier()</pre></div> </div></div></div></div>"
      ],
      "text/plain": [
       "RandomForestClassifier()"
      ]
     },
     "execution_count": 152,
     "metadata": {},
     "output_type": "execute_result"
    }
   ],
   "source": [
    "X_train.columns = X_train.columns.astype(str)\n",
    "X_test.columns = X_test.columns.astype(str)\n",
    "\n",
    "classifier.fit(X_train,y_train)"
   ]
  },
  {
   "cell_type": "code",
   "execution_count": 153,
   "id": "03085331",
   "metadata": {},
   "outputs": [],
   "source": [
    "y_pred=classifier.predict(X_test)"
   ]
  },
  {
   "cell_type": "code",
   "execution_count": 154,
   "id": "7c8c9452",
   "metadata": {},
   "outputs": [
    {
     "name": "stdout",
     "output_type": "stream",
     "text": [
      "1.0\n"
     ]
    }
   ],
   "source": [
    "from sklearn.metrics import accuracy_score,classification_report\n",
    "print(accuracy_score(y_test,y_pred))"
   ]
  },
  {
   "cell_type": "code",
   "execution_count": 156,
   "id": "88f76683",
   "metadata": {},
   "outputs": [
    {
     "name": "stdout",
     "output_type": "stream",
     "text": [
      "              precision    recall  f1-score   support\n",
      "\n",
      "       False       1.00      1.00      1.00       146\n",
      "        True       1.00      1.00      1.00       968\n",
      "\n",
      "    accuracy                           1.00      1114\n",
      "   macro avg       1.00      1.00      1.00      1114\n",
      "weighted avg       1.00      1.00      1.00      1114\n",
      "\n"
     ]
    }
   ],
   "source": [
    "print(classification_report(y_test,y_pred))"
   ]
  },
  {
   "cell_type": "code",
   "execution_count": null,
   "id": "d2a8844b",
   "metadata": {},
   "outputs": [],
   "source": []
  }
 ],
 "metadata": {
  "kernelspec": {
   "display_name": "base",
   "language": "python",
   "name": "python3"
  },
  "language_info": {
   "codemirror_mode": {
    "name": "ipython",
    "version": 3
   },
   "file_extension": ".py",
   "mimetype": "text/x-python",
   "name": "python",
   "nbconvert_exporter": "python",
   "pygments_lexer": "ipython3",
   "version": "3.12.7"
  }
 },
 "nbformat": 4,
 "nbformat_minor": 5
}
