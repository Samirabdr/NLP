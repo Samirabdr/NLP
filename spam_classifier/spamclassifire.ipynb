{
 "cells": [
  {
   "cell_type": "code",
   "execution_count": 15,
   "id": "1510e3b5",
   "metadata": {},
   "outputs": [],
   "source": [
    "import pandas as pd"
   ]
  },
  {
   "cell_type": "code",
   "execution_count": 16,
   "id": "2a845b93",
   "metadata": {},
   "outputs": [
    {
     "data": {
      "text/html": [
       "<div>\n",
       "<style scoped>\n",
       "    .dataframe tbody tr th:only-of-type {\n",
       "        vertical-align: middle;\n",
       "    }\n",
       "\n",
       "    .dataframe tbody tr th {\n",
       "        vertical-align: top;\n",
       "    }\n",
       "\n",
       "    .dataframe thead th {\n",
       "        text-align: right;\n",
       "    }\n",
       "</style>\n",
       "<table border=\"1\" class=\"dataframe\">\n",
       "  <thead>\n",
       "    <tr style=\"text-align: right;\">\n",
       "      <th></th>\n",
       "      <th>label</th>\n",
       "      <th>message</th>\n",
       "    </tr>\n",
       "  </thead>\n",
       "  <tbody>\n",
       "    <tr>\n",
       "      <th>0</th>\n",
       "      <td>ham</td>\n",
       "      <td>Go until jurong point, crazy.. Available only ...</td>\n",
       "    </tr>\n",
       "    <tr>\n",
       "      <th>1</th>\n",
       "      <td>ham</td>\n",
       "      <td>Ok lar... Joking wif u oni...</td>\n",
       "    </tr>\n",
       "    <tr>\n",
       "      <th>2</th>\n",
       "      <td>spam</td>\n",
       "      <td>Free entry in 2 a wkly comp to win FA Cup fina...</td>\n",
       "    </tr>\n",
       "    <tr>\n",
       "      <th>3</th>\n",
       "      <td>ham</td>\n",
       "      <td>U dun say so early hor... U c already then say...</td>\n",
       "    </tr>\n",
       "    <tr>\n",
       "      <th>4</th>\n",
       "      <td>ham</td>\n",
       "      <td>Nah I don't think he goes to usf, he lives aro...</td>\n",
       "    </tr>\n",
       "  </tbody>\n",
       "</table>\n",
       "</div>"
      ],
      "text/plain": [
       "  label                                            message\n",
       "0   ham  Go until jurong point, crazy.. Available only ...\n",
       "1   ham                      Ok lar... Joking wif u oni...\n",
       "2  spam  Free entry in 2 a wkly comp to win FA Cup fina...\n",
       "3   ham  U dun say so early hor... U c already then say...\n",
       "4   ham  Nah I don't think he goes to usf, he lives aro..."
      ]
     },
     "execution_count": 16,
     "metadata": {},
     "output_type": "execute_result"
    }
   ],
   "source": [
    "messages = pd.read_csv('SMSSpamCollection.txt', sep='\\t', names=[\"label\", \"message\"])\n",
    "messages.head()"
   ]
  },
  {
   "cell_type": "code",
   "execution_count": 17,
   "id": "bde8e281",
   "metadata": {},
   "outputs": [
    {
     "data": {
      "text/plain": [
       "(5572, 2)"
      ]
     },
     "execution_count": 17,
     "metadata": {},
     "output_type": "execute_result"
    }
   ],
   "source": [
    "messages.shape"
   ]
  },
  {
   "cell_type": "markdown",
   "id": "d9a607ac",
   "metadata": {},
   "source": [
    "### Text preprocessing"
   ]
  },
  {
   "cell_type": "code",
   "execution_count": 18,
   "id": "434c8b37",
   "metadata": {},
   "outputs": [],
   "source": [
    "import nltk\n",
    "import re\n",
    "#nltk.download('stopwords')\n",
    "from nltk.corpus import stopwords\n",
    "from nltk.stem import PorterStemmer\n",
    "from nltk.stem import WordNetLemmatizer"
   ]
  },
  {
   "cell_type": "code",
   "execution_count": 19,
   "id": "5dff3e39",
   "metadata": {},
   "outputs": [],
   "source": [
    "ps = PorterStemmer()\n",
    "lemmatizer=WordNetLemmatizer()"
   ]
  },
  {
   "cell_type": "code",
   "execution_count": 20,
   "id": "424d8e2f",
   "metadata": {},
   "outputs": [],
   "source": [
    "corpus = []\n",
    "for i in range(0, len(messages)):\n",
    "    review = re.sub('[^a-zA-Z]', ' ', messages['message'][i])\n",
    "    review = review.lower()\n",
    "    review = review.split()\n",
    "    \n",
    "    review = [ps.stem(word) for word in review if not word in stopwords.words('english')]\n",
    "    review = ' '.join(review)\n",
    "    corpus.append(review)"
   ]
  },
  {
   "cell_type": "code",
   "execution_count": 21,
   "id": "7ce219ce",
   "metadata": {},
   "outputs": [
    {
     "data": {
      "text/plain": [
       "['gonna home soon want talk stuff anymor tonight k cri enough today',\n",
       " 'six chanc win cash pound txt csh send cost p day day tsandc appli repli hl info',\n",
       " 'urgent week free membership prize jackpot txt word claim c www dbuk net lccltd pobox ldnw rw',\n",
       " 'search right word thank breather promis wont take help grant fulfil promis wonder bless time',\n",
       " 'date sunday']"
      ]
     },
     "execution_count": 21,
     "metadata": {},
     "output_type": "execute_result"
    }
   ],
   "source": [
    "corpus[10:15]"
   ]
  },
  {
   "cell_type": "markdown",
   "id": "35359201",
   "metadata": {},
   "source": [
    "## Text to vector: BOW, TFIDF, Word2Vec"
   ]
  },
  {
   "cell_type": "markdown",
   "id": "8e5537e3",
   "metadata": {},
   "source": [
    "####  Bag of Words model"
   ]
  },
  {
   "cell_type": "code",
   "execution_count": 22,
   "id": "73cca13a",
   "metadata": {},
   "outputs": [],
   "source": [
    "# Creating the Bag of Words model\n",
    "\n",
    "from sklearn.feature_extraction.text import CountVectorizer\n",
    "cv = CountVectorizer(max_features=2500, binary = True, ngram_range=(2,2))\n",
    "X = cv.fit_transform(corpus).toarray()"
   ]
  },
  {
   "cell_type": "code",
   "execution_count": 23,
   "id": "8e7ac1f7",
   "metadata": {},
   "outputs": [
    {
     "data": {
      "text/plain": [
       "(5572, 2500)"
      ]
     },
     "execution_count": 23,
     "metadata": {},
     "output_type": "execute_result"
    }
   ],
   "source": [
    "X.shape"
   ]
  },
  {
   "cell_type": "code",
   "execution_count": 24,
   "id": "c70b7b23",
   "metadata": {},
   "outputs": [
    {
     "data": {
      "text/plain": [
       "array([False, False,  True, False, False,  True, False, False,  True,\n",
       "        True])"
      ]
     },
     "execution_count": 24,
     "metadata": {},
     "output_type": "execute_result"
    }
   ],
   "source": [
    "y=pd.get_dummies(messages['label'])\n",
    "y=y.iloc[:,1].values\n",
    "y[:10]"
   ]
  },
  {
   "cell_type": "code",
   "execution_count": 25,
   "id": "c1b55209",
   "metadata": {},
   "outputs": [],
   "source": [
    "# Train Test Split\n",
    "\n",
    "from sklearn.model_selection import train_test_split\n",
    "X_train, X_test, y_train, y_test = train_test_split(X, y, test_size = 0.20, random_state = 0)"
   ]
  },
  {
   "cell_type": "code",
   "execution_count": 26,
   "id": "0c0c32f6",
   "metadata": {},
   "outputs": [],
   "source": [
    "# Training model using Naive bayes classifier\n",
    "\n",
    "from sklearn.naive_bayes import MultinomialNB\n",
    "spam_detect_model = MultinomialNB().fit(X_train, y_train)"
   ]
  },
  {
   "cell_type": "code",
   "execution_count": 27,
   "id": "3a3862fc",
   "metadata": {},
   "outputs": [],
   "source": [
    "y_pred=spam_detect_model.predict(X_test)"
   ]
  },
  {
   "cell_type": "code",
   "execution_count": 28,
   "id": "c6882c9c",
   "metadata": {},
   "outputs": [
    {
     "name": "stdout",
     "output_type": "stream",
     "text": [
      "0.9730941704035875\n"
     ]
    }
   ],
   "source": [
    "from sklearn.metrics import accuracy_score,classification_report\n",
    "print(accuracy_score(y_test,y_pred))"
   ]
  },
  {
   "cell_type": "code",
   "execution_count": 29,
   "id": "3d51f282",
   "metadata": {},
   "outputs": [
    {
     "name": "stdout",
     "output_type": "stream",
     "text": [
      "              precision    recall  f1-score   support\n",
      "\n",
      "       False       0.97      1.00      0.98       955\n",
      "        True       1.00      0.81      0.90       160\n",
      "\n",
      "    accuracy                           0.97      1115\n",
      "   macro avg       0.98      0.91      0.94      1115\n",
      "weighted avg       0.97      0.97      0.97      1115\n",
      "\n"
     ]
    }
   ],
   "source": [
    "print(classification_report(y_test,y_pred))"
   ]
  },
  {
   "cell_type": "markdown",
   "id": "28ca0396",
   "metadata": {},
   "source": [
    "## TF-IDF"
   ]
  },
  {
   "cell_type": "code",
   "execution_count": 30,
   "id": "f6b4c264",
   "metadata": {},
   "outputs": [],
   "source": [
    "# Creating the TFIDF model\n",
    "from sklearn.feature_extraction.text import TfidfVectorizer\n",
    "tv = TfidfVectorizer(max_features=2500, binary=True, ngram_range=(2,2))\n",
    "X = tv.fit_transform(corpus).toarray()"
   ]
  },
  {
   "cell_type": "code",
   "execution_count": 31,
   "id": "1a692ef9",
   "metadata": {},
   "outputs": [],
   "source": [
    "# Train Test Split\n",
    "\n",
    "from sklearn.model_selection import train_test_split\n",
    "X_train, X_test, y_train, y_test = train_test_split(X, y, test_size = 0.20, random_state = 0)"
   ]
  },
  {
   "cell_type": "code",
   "execution_count": 32,
   "id": "96c7e168",
   "metadata": {},
   "outputs": [],
   "source": [
    "from sklearn.naive_bayes import MultinomialNB\n",
    "spam_detect_model = MultinomialNB().fit(X_train, y_train)"
   ]
  },
  {
   "cell_type": "code",
   "execution_count": 33,
   "id": "833014b4",
   "metadata": {},
   "outputs": [],
   "source": [
    "#prediction\n",
    "y_pred=spam_detect_model.predict(X_test)"
   ]
  },
  {
   "cell_type": "code",
   "execution_count": 34,
   "id": "eb72b50b",
   "metadata": {},
   "outputs": [
    {
     "name": "stdout",
     "output_type": "stream",
     "text": [
      "0.957847533632287\n"
     ]
    }
   ],
   "source": [
    "score=accuracy_score(y_test,y_pred)\n",
    "print(score)"
   ]
  },
  {
   "cell_type": "code",
   "execution_count": 35,
   "id": "b3388302",
   "metadata": {},
   "outputs": [
    {
     "name": "stdout",
     "output_type": "stream",
     "text": [
      "              precision    recall  f1-score   support\n",
      "\n",
      "       False       1.00      0.95      0.98      1002\n",
      "        True       0.71      1.00      0.83       113\n",
      "\n",
      "    accuracy                           0.96      1115\n",
      "   macro avg       0.85      0.98      0.90      1115\n",
      "weighted avg       0.97      0.96      0.96      1115\n",
      "\n"
     ]
    }
   ],
   "source": [
    "from sklearn.metrics import classification_report\n",
    "print(classification_report(y_pred,y_test))"
   ]
  },
  {
   "cell_type": "markdown",
   "id": "62fe3875",
   "metadata": {},
   "source": [
    "## Word2vec Implementation"
   ]
  },
  {
   "cell_type": "code",
   "execution_count": 36,
   "id": "70f2dd6a",
   "metadata": {},
   "outputs": [],
   "source": [
    "#!pip install gensim"
   ]
  },
  {
   "cell_type": "code",
   "execution_count": 37,
   "id": "7736ddee",
   "metadata": {},
   "outputs": [],
   "source": [
    "import gensim.downloader as api\n",
    "\n",
    "wv = api.load('word2vec-google-news-300')"
   ]
  },
  {
   "cell_type": "code",
   "execution_count": 38,
   "id": "1724c58e",
   "metadata": {},
   "outputs": [],
   "source": [
    "from nltk import sent_tokenize\n",
    "from gensim.utils import simple_preprocess"
   ]
  },
  {
   "cell_type": "code",
   "execution_count": 39,
   "id": "52d80f2a",
   "metadata": {},
   "outputs": [],
   "source": [
    "words=[]\n",
    "for sent in corpus:\n",
    "    sent_token=sent_tokenize(sent)\n",
    "    for sent in sent_token:\n",
    "        words.append(simple_preprocess(sent))"
   ]
  },
  {
   "cell_type": "code",
   "execution_count": 40,
   "id": "9b821f16",
   "metadata": {},
   "outputs": [],
   "source": [
    "#words[:10]"
   ]
  },
  {
   "cell_type": "code",
   "execution_count": 41,
   "id": "483060b2",
   "metadata": {},
   "outputs": [],
   "source": [
    "import numpy as np\n",
    "import gensim\n",
    "\n",
    "# Train Word2Vec\n",
    "model = gensim.models.Word2Vec(sentences=words, vector_size=300, window=5, min_count=2)\n",
    "\n",
    "# Create feature vectors for each message (average of word embeddings)\n",
    "X = []\n",
    "for sent in corpus:\n",
    "    tokens = simple_preprocess(sent)\n",
    "    word_vecs = [model.wv[w] for w in tokens if w in model.wv]\n",
    "    if len(word_vecs) > 0:\n",
    "        X.append(np.mean(word_vecs, axis=0))\n",
    "    else:\n",
    "        X.append(np.zeros(300))  # fallback if no words in vocab\n",
    "X = np.array(X)\n"
   ]
  },
  {
   "cell_type": "code",
   "execution_count": 42,
   "id": "40fc1a3b",
   "metadata": {},
   "outputs": [
    {
     "name": "stdout",
     "output_type": "stream",
     "text": [
      "Accuracy: 0.8565022421524664\n",
      "              precision    recall  f1-score   support\n",
      "\n",
      "       False       0.86      1.00      0.92       955\n",
      "        True       0.00      0.00      0.00       160\n",
      "\n",
      "    accuracy                           0.86      1115\n",
      "   macro avg       0.43      0.50      0.46      1115\n",
      "weighted avg       0.73      0.86      0.79      1115\n",
      "\n"
     ]
    },
    {
     "name": "stderr",
     "output_type": "stream",
     "text": [
      "c:\\Users\\samir\\anaconda3\\Lib\\site-packages\\sklearn\\metrics\\_classification.py:1531: UndefinedMetricWarning: Precision is ill-defined and being set to 0.0 in labels with no predicted samples. Use `zero_division` parameter to control this behavior.\n",
      "  _warn_prf(average, modifier, f\"{metric.capitalize()} is\", len(result))\n",
      "c:\\Users\\samir\\anaconda3\\Lib\\site-packages\\sklearn\\metrics\\_classification.py:1531: UndefinedMetricWarning: Precision is ill-defined and being set to 0.0 in labels with no predicted samples. Use `zero_division` parameter to control this behavior.\n",
      "  _warn_prf(average, modifier, f\"{metric.capitalize()} is\", len(result))\n",
      "c:\\Users\\samir\\anaconda3\\Lib\\site-packages\\sklearn\\metrics\\_classification.py:1531: UndefinedMetricWarning: Precision is ill-defined and being set to 0.0 in labels with no predicted samples. Use `zero_division` parameter to control this behavior.\n",
      "  _warn_prf(average, modifier, f\"{metric.capitalize()} is\", len(result))\n"
     ]
    }
   ],
   "source": [
    "from sklearn.linear_model import LogisticRegression\n",
    "from sklearn.model_selection import train_test_split\n",
    "from sklearn.metrics import accuracy_score, classification_report\n",
    "\n",
    "# Train-test split\n",
    "X_train, X_test, y_train, y_test = train_test_split(X, y, test_size=0.2, random_state=0)\n",
    "\n",
    "# Logistic Regression works well with embeddings\n",
    "clf = LogisticRegression(max_iter=1000)\n",
    "clf.fit(X_train, y_train)\n",
    "\n",
    "# Predictions\n",
    "y_pred = clf.predict(X_test)\n",
    "\n",
    "# Evaluation\n",
    "print(\"Accuracy:\", accuracy_score(y_test, y_pred))\n",
    "print(classification_report(y_test, y_pred))\n"
   ]
  },
  {
   "cell_type": "code",
   "execution_count": 43,
   "id": "c98f031c",
   "metadata": {},
   "outputs": [
    {
     "name": "stdout",
     "output_type": "stream",
     "text": [
      "Accuracy: 0.8565022421524664\n",
      "              precision    recall  f1-score   support\n",
      "\n",
      "       False       0.86      1.00      0.92       955\n",
      "        True       0.00      0.00      0.00       160\n",
      "\n",
      "    accuracy                           0.86      1115\n",
      "   macro avg       0.43      0.50      0.46      1115\n",
      "weighted avg       0.73      0.86      0.79      1115\n",
      "\n"
     ]
    },
    {
     "name": "stderr",
     "output_type": "stream",
     "text": [
      "c:\\Users\\samir\\anaconda3\\Lib\\site-packages\\sklearn\\metrics\\_classification.py:1531: UndefinedMetricWarning: Precision is ill-defined and being set to 0.0 in labels with no predicted samples. Use `zero_division` parameter to control this behavior.\n",
      "  _warn_prf(average, modifier, f\"{metric.capitalize()} is\", len(result))\n",
      "c:\\Users\\samir\\anaconda3\\Lib\\site-packages\\sklearn\\metrics\\_classification.py:1531: UndefinedMetricWarning: Precision is ill-defined and being set to 0.0 in labels with no predicted samples. Use `zero_division` parameter to control this behavior.\n",
      "  _warn_prf(average, modifier, f\"{metric.capitalize()} is\", len(result))\n",
      "c:\\Users\\samir\\anaconda3\\Lib\\site-packages\\sklearn\\metrics\\_classification.py:1531: UndefinedMetricWarning: Precision is ill-defined and being set to 0.0 in labels with no predicted samples. Use `zero_division` parameter to control this behavior.\n",
      "  _warn_prf(average, modifier, f\"{metric.capitalize()} is\", len(result))\n"
     ]
    }
   ],
   "source": [
    "from sklearn import svm\n",
    "from sklearn.model_selection import train_test_split\n",
    "from sklearn.metrics import accuracy_score, classification_report\n",
    "\n",
    "# Train-test split\n",
    "X_train, X_test, y_train, y_test = train_test_split(X, y, test_size=0.2, random_state=0)\n",
    "\n",
    "# Train SVM\n",
    "clf = svm.SVC(kernel='linear')  # You can also try kernel='rbf' or 'poly'\n",
    "clf.fit(X_train, y_train)\n",
    "\n",
    "# Predictions\n",
    "y_pred = clf.predict(X_test)\n",
    "\n",
    "# Evaluation\n",
    "print(\"Accuracy:\", accuracy_score(y_test, y_pred))\n",
    "print(classification_report(y_test, y_pred))\n"
   ]
  },
  {
   "cell_type": "markdown",
   "id": "c57db1df",
   "metadata": {},
   "source": [
    "## Avg Word2Vec"
   ]
  },
  {
   "cell_type": "code",
   "execution_count": 44,
   "id": "4d8cb469",
   "metadata": {},
   "outputs": [],
   "source": [
    "corpus = []\n",
    "for i in range(0, len(messages)):\n",
    "    review = re.sub('[^a-zA-Z]', ' ', messages['message'][i])\n",
    "    review = review.lower()\n",
    "    review = review.split()\n",
    "    \n",
    "    review = [lemmatizer.lemmatize(word) for word in review]\n",
    "    review = ' '.join(review)\n",
    "    corpus.append(review)"
   ]
  },
  {
   "cell_type": "code",
   "execution_count": 45,
   "id": "7c0ada96",
   "metadata": {},
   "outputs": [
    {
     "data": {
      "text/plain": [
       "[[0, '', '645'], [0, '', ':) '], [0, '', ':-) :-)']]"
      ]
     },
     "execution_count": 45,
     "metadata": {},
     "output_type": "execute_result"
    }
   ],
   "source": [
    "[[i,j,k] for i,j,k in zip(list(map(len,corpus)),corpus, messages['message']) if i<1]"
   ]
  },
  {
   "cell_type": "code",
   "execution_count": 46,
   "id": "18e5488c",
   "metadata": {},
   "outputs": [],
   "source": [
    "from nltk import sent_tokenize\n",
    "from gensim.utils import simple_preprocess"
   ]
  },
  {
   "cell_type": "code",
   "execution_count": 47,
   "id": "e6c75a09",
   "metadata": {},
   "outputs": [],
   "source": [
    "words=[]\n",
    "for sent in corpus:\n",
    "    sent_token=sent_tokenize(sent)\n",
    "    for sent in sent_token:\n",
    "        words.append(simple_preprocess(sent))\n"
   ]
  },
  {
   "cell_type": "code",
   "execution_count": 48,
   "id": "988d6abf",
   "metadata": {},
   "outputs": [],
   "source": [
    "#words[:10]"
   ]
  },
  {
   "cell_type": "code",
   "execution_count": 49,
   "id": "82612ab5",
   "metadata": {},
   "outputs": [],
   "source": [
    "## Lets train Word2vec from scratch\n",
    "model=gensim.models.Word2Vec(words)"
   ]
  },
  {
   "cell_type": "code",
   "execution_count": 50,
   "id": "a84b5236",
   "metadata": {},
   "outputs": [
    {
     "data": {
      "text/plain": [
       "['to', 'you', 'the', 'it', 'and', 'in', 'is', 'me', 'my', 'for']"
      ]
     },
     "execution_count": 50,
     "metadata": {},
     "output_type": "execute_result"
    }
   ],
   "source": [
    "## To Get All the Vocabulary\n",
    "model.wv.index_to_key[:10]"
   ]
  },
  {
   "cell_type": "code",
   "execution_count": 51,
   "id": "835e34e2",
   "metadata": {},
   "outputs": [
    {
     "data": {
      "text/plain": [
       "5569"
      ]
     },
     "execution_count": 51,
     "metadata": {},
     "output_type": "execute_result"
    }
   ],
   "source": [
    "model.corpus_count"
   ]
  },
  {
   "cell_type": "code",
   "execution_count": 52,
   "id": "d646afc1",
   "metadata": {},
   "outputs": [
    {
     "data": {
      "text/plain": [
       "5"
      ]
     },
     "execution_count": 52,
     "metadata": {},
     "output_type": "execute_result"
    }
   ],
   "source": [
    "model.epochs"
   ]
  },
  {
   "cell_type": "code",
   "execution_count": 53,
   "id": "22886b30",
   "metadata": {},
   "outputs": [
    {
     "data": {
      "text/plain": [
       "['go',\n",
       " 'until',\n",
       " 'jurong',\n",
       " 'point',\n",
       " 'crazy',\n",
       " 'available',\n",
       " 'only',\n",
       " 'in',\n",
       " 'bugis',\n",
       " 'great',\n",
       " 'world',\n",
       " 'la',\n",
       " 'buffet',\n",
       " 'cine',\n",
       " 'there',\n",
       " 'got',\n",
       " 'amore',\n",
       " 'wat']"
      ]
     },
     "execution_count": 53,
     "metadata": {},
     "output_type": "execute_result"
    }
   ],
   "source": [
    "words[0]"
   ]
  },
  {
   "cell_type": "code",
   "execution_count": 54,
   "id": "71902bec",
   "metadata": {},
   "outputs": [],
   "source": [
    "def avg_word2vec(doc):\n",
    "    # remove out-of-vocabulary words\n",
    "    sent = [word for word in doc if word in model.wv.index_to_key]\n",
    "    #print(sent)\n",
    "    \n",
    "    if len(sent)>=1:\n",
    "        return np.mean([model.wv[word] for word in sent], axis=0)\n",
    "    else:\n",
    "        return np.zeros(model.vector_size)  \n",
    "    #return np.mean([model.wv[word] for word in doc if word in model.wv.index_to_key],axis=0)\n",
    "                #or [np.zeros(len(model.wv.index_to_key))], axis=0)"
   ]
  },
  {
   "cell_type": "code",
   "execution_count": 55,
   "id": "73e63a06",
   "metadata": {},
   "outputs": [],
   "source": [
    "from tqdm import tqdm"
   ]
  },
  {
   "cell_type": "code",
   "execution_count": 56,
   "id": "04addd7e",
   "metadata": {},
   "outputs": [
    {
     "name": "stderr",
     "output_type": "stream",
     "text": [
      "100%|██████████| 5569/5569 [00:00<00:00, 9294.13it/s]\n"
     ]
    }
   ],
   "source": [
    "#apply for the entire sentences\n",
    "import numpy as np\n",
    "X=[]\n",
    "for i in tqdm(range(len(words))):\n",
    "    X.append(avg_word2vec(words[i]))"
   ]
  },
  {
   "cell_type": "code",
   "execution_count": 57,
   "id": "7b296688",
   "metadata": {},
   "outputs": [
    {
     "data": {
      "text/plain": [
       "5569"
      ]
     },
     "execution_count": 57,
     "metadata": {},
     "output_type": "execute_result"
    }
   ],
   "source": [
    "len(X)"
   ]
  },
  {
   "cell_type": "code",
   "execution_count": 58,
   "id": "b8e6105e",
   "metadata": {},
   "outputs": [],
   "source": [
    "##independent Features\n",
    "X_new =np.array(X)"
   ]
  },
  {
   "cell_type": "code",
   "execution_count": 59,
   "id": "aa245d72",
   "metadata": {},
   "outputs": [
    {
     "data": {
      "text/plain": [
       "(5572, 2)"
      ]
     },
     "execution_count": 59,
     "metadata": {},
     "output_type": "execute_result"
    }
   ],
   "source": [
    "messages.shape"
   ]
  },
  {
   "cell_type": "code",
   "execution_count": 60,
   "id": "24a83d06",
   "metadata": {},
   "outputs": [
    {
     "data": {
      "text/plain": [
       "array([-1.59108609e-01,  2.02145278e-01,  9.85729694e-02,  7.63481110e-02,\n",
       "        8.50550830e-02, -4.18432683e-01,  1.36617213e-01,  4.10810918e-01,\n",
       "       -2.27364406e-01, -8.75969455e-02, -1.58424124e-01, -3.14725012e-01,\n",
       "       -5.20298928e-02,  1.09035999e-01,  1.58489794e-01, -1.44273698e-01,\n",
       "        1.11859895e-01, -2.68507987e-01, -6.12729788e-02, -4.59902525e-01,\n",
       "        1.79319024e-01,  1.06945112e-01,  5.86744100e-02, -1.84881806e-01,\n",
       "       -2.07718331e-02, -1.44403875e-02, -1.73210189e-01, -1.75231844e-01,\n",
       "       -2.17963636e-01,  2.33971700e-02,  2.74732202e-01,  2.15336196e-02,\n",
       "        9.31747705e-02, -1.51477426e-01, -1.21562749e-01,  3.27181846e-01,\n",
       "        5.59293553e-02, -1.04077019e-01, -8.88169929e-02, -4.13653255e-01,\n",
       "        9.51609164e-02, -2.14954168e-01, -1.59748539e-01,  1.72670092e-02,\n",
       "        1.22068822e-01,  1.97412143e-03, -1.10439554e-01, -4.11424860e-02,\n",
       "        1.87304348e-01,  1.23775095e-01,  1.49369702e-01, -1.55040771e-01,\n",
       "       -4.44277525e-02,  5.08761778e-02, -6.18065111e-02,  4.18930314e-02,\n",
       "        1.35968298e-01,  7.54493475e-03, -3.19442362e-01,  1.63473129e-01,\n",
       "       -5.74168563e-03,  1.39114544e-01,  3.49438051e-06, -9.67596769e-02,\n",
       "       -2.47370750e-01,  2.35228598e-01,  8.48337710e-02,  1.95230260e-01,\n",
       "       -2.96040148e-01,  3.40026438e-01, -2.30898321e-01,  1.36201769e-01,\n",
       "        3.23545486e-01, -1.06287956e-01,  3.06373775e-01,  4.97427806e-02,\n",
       "        9.19106305e-02, -8.61767232e-02, -1.42674536e-01,  6.83145523e-02,\n",
       "       -1.89586461e-01, -9.22865570e-02, -2.42698163e-01,  4.05714512e-01,\n",
       "       -1.37481987e-01, -3.67157049e-02,  4.80582304e-02,  1.91921800e-01,\n",
       "        3.14989686e-01,  6.27672821e-02,  3.12517852e-01,  1.20728247e-01,\n",
       "        3.84664610e-02,  3.93486395e-02,  3.51807803e-01,  1.55650496e-01,\n",
       "        1.43580094e-01, -1.74410447e-01,  1.33352488e-01,  1.92047399e-03],\n",
       "      dtype=float32)"
      ]
     },
     "execution_count": 60,
     "metadata": {},
     "output_type": "execute_result"
    }
   ],
   "source": [
    "X[1]"
   ]
  },
  {
   "cell_type": "code",
   "execution_count": 61,
   "id": "2392713a",
   "metadata": {},
   "outputs": [
    {
     "data": {
      "text/plain": [
       "(5569, 100)"
      ]
     },
     "execution_count": 61,
     "metadata": {},
     "output_type": "execute_result"
    }
   ],
   "source": [
    "X_new.shape"
   ]
  },
  {
   "cell_type": "code",
   "execution_count": 62,
   "id": "e3394948",
   "metadata": {},
   "outputs": [
    {
     "data": {
      "text/plain": [
       "(100,)"
      ]
     },
     "execution_count": 62,
     "metadata": {},
     "output_type": "execute_result"
    }
   ],
   "source": [
    "X_new[0].shape"
   ]
  },
  {
   "cell_type": "code",
   "execution_count": 63,
   "id": "9e54a1c6",
   "metadata": {},
   "outputs": [],
   "source": [
    "## Dependent Features\n",
    "## Output Features\n",
    "y = messages[list(map(lambda x: len(x)>0 ,corpus))]\n",
    "y=pd.get_dummies(y['label'])\n",
    "y=y.iloc[:,0].values"
   ]
  },
  {
   "cell_type": "code",
   "execution_count": 64,
   "id": "edebd586",
   "metadata": {},
   "outputs": [
    {
     "data": {
      "text/plain": [
       "(5569,)"
      ]
     },
     "execution_count": 64,
     "metadata": {},
     "output_type": "execute_result"
    }
   ],
   "source": [
    "y.shape"
   ]
  },
  {
   "cell_type": "code",
   "execution_count": 65,
   "id": "49791a04",
   "metadata": {},
   "outputs": [
    {
     "data": {
      "text/plain": [
       "(1, 100)"
      ]
     },
     "execution_count": 65,
     "metadata": {},
     "output_type": "execute_result"
    }
   ],
   "source": [
    "X[0].reshape(1,-1).shape"
   ]
  },
  {
   "cell_type": "code",
   "execution_count": 66,
   "id": "cdd94e20",
   "metadata": {},
   "outputs": [],
   "source": [
    "df = pd.DataFrame()\n",
    "for i in range(len(X)):\n",
    "    row_df = pd.DataFrame(X[i].reshape(1, -1))\n",
    "    df = pd.concat([df, row_df], ignore_index=True)\n"
   ]
  },
  {
   "cell_type": "code",
   "execution_count": 67,
   "id": "77851882",
   "metadata": {},
   "outputs": [
    {
     "data": {
      "text/html": [
       "<div>\n",
       "<style scoped>\n",
       "    .dataframe tbody tr th:only-of-type {\n",
       "        vertical-align: middle;\n",
       "    }\n",
       "\n",
       "    .dataframe tbody tr th {\n",
       "        vertical-align: top;\n",
       "    }\n",
       "\n",
       "    .dataframe thead th {\n",
       "        text-align: right;\n",
       "    }\n",
       "</style>\n",
       "<table border=\"1\" class=\"dataframe\">\n",
       "  <thead>\n",
       "    <tr style=\"text-align: right;\">\n",
       "      <th></th>\n",
       "      <th>0</th>\n",
       "      <th>1</th>\n",
       "      <th>2</th>\n",
       "      <th>3</th>\n",
       "      <th>4</th>\n",
       "      <th>5</th>\n",
       "      <th>6</th>\n",
       "      <th>7</th>\n",
       "      <th>8</th>\n",
       "      <th>9</th>\n",
       "      <th>...</th>\n",
       "      <th>90</th>\n",
       "      <th>91</th>\n",
       "      <th>92</th>\n",
       "      <th>93</th>\n",
       "      <th>94</th>\n",
       "      <th>95</th>\n",
       "      <th>96</th>\n",
       "      <th>97</th>\n",
       "      <th>98</th>\n",
       "      <th>99</th>\n",
       "    </tr>\n",
       "  </thead>\n",
       "  <tbody>\n",
       "    <tr>\n",
       "      <th>0</th>\n",
       "      <td>-0.174882</td>\n",
       "      <td>0.237811</td>\n",
       "      <td>0.117865</td>\n",
       "      <td>0.090352</td>\n",
       "      <td>0.092584</td>\n",
       "      <td>-0.490917</td>\n",
       "      <td>0.173914</td>\n",
       "      <td>0.476199</td>\n",
       "      <td>-0.264198</td>\n",
       "      <td>-0.109826</td>\n",
       "      <td>...</td>\n",
       "      <td>0.355807</td>\n",
       "      <td>0.149270</td>\n",
       "      <td>0.050715</td>\n",
       "      <td>0.053324</td>\n",
       "      <td>0.421908</td>\n",
       "      <td>0.185385</td>\n",
       "      <td>0.165887</td>\n",
       "      <td>-0.191640</td>\n",
       "      <td>0.147173</td>\n",
       "      <td>0.009049</td>\n",
       "    </tr>\n",
       "    <tr>\n",
       "      <th>1</th>\n",
       "      <td>-0.159109</td>\n",
       "      <td>0.202145</td>\n",
       "      <td>0.098573</td>\n",
       "      <td>0.076348</td>\n",
       "      <td>0.085055</td>\n",
       "      <td>-0.418433</td>\n",
       "      <td>0.136617</td>\n",
       "      <td>0.410811</td>\n",
       "      <td>-0.227364</td>\n",
       "      <td>-0.087597</td>\n",
       "      <td>...</td>\n",
       "      <td>0.312518</td>\n",
       "      <td>0.120728</td>\n",
       "      <td>0.038466</td>\n",
       "      <td>0.039349</td>\n",
       "      <td>0.351808</td>\n",
       "      <td>0.155650</td>\n",
       "      <td>0.143580</td>\n",
       "      <td>-0.174410</td>\n",
       "      <td>0.133352</td>\n",
       "      <td>0.001920</td>\n",
       "    </tr>\n",
       "    <tr>\n",
       "      <th>2</th>\n",
       "      <td>-0.185214</td>\n",
       "      <td>0.253473</td>\n",
       "      <td>0.126324</td>\n",
       "      <td>0.110499</td>\n",
       "      <td>0.074924</td>\n",
       "      <td>-0.528249</td>\n",
       "      <td>0.174914</td>\n",
       "      <td>0.470094</td>\n",
       "      <td>-0.280336</td>\n",
       "      <td>-0.136550</td>\n",
       "      <td>...</td>\n",
       "      <td>0.347033</td>\n",
       "      <td>0.149244</td>\n",
       "      <td>0.048464</td>\n",
       "      <td>0.040011</td>\n",
       "      <td>0.427262</td>\n",
       "      <td>0.167831</td>\n",
       "      <td>0.111661</td>\n",
       "      <td>-0.222528</td>\n",
       "      <td>0.174398</td>\n",
       "      <td>0.024002</td>\n",
       "    </tr>\n",
       "    <tr>\n",
       "      <th>3</th>\n",
       "      <td>-0.240059</td>\n",
       "      <td>0.315037</td>\n",
       "      <td>0.152924</td>\n",
       "      <td>0.119885</td>\n",
       "      <td>0.126817</td>\n",
       "      <td>-0.656782</td>\n",
       "      <td>0.224011</td>\n",
       "      <td>0.641553</td>\n",
       "      <td>-0.358653</td>\n",
       "      <td>-0.139065</td>\n",
       "      <td>...</td>\n",
       "      <td>0.483817</td>\n",
       "      <td>0.195657</td>\n",
       "      <td>0.062522</td>\n",
       "      <td>0.076810</td>\n",
       "      <td>0.556375</td>\n",
       "      <td>0.255600</td>\n",
       "      <td>0.237112</td>\n",
       "      <td>-0.262585</td>\n",
       "      <td>0.199402</td>\n",
       "      <td>0.004023</td>\n",
       "    </tr>\n",
       "    <tr>\n",
       "      <th>4</th>\n",
       "      <td>-0.206349</td>\n",
       "      <td>0.262090</td>\n",
       "      <td>0.137853</td>\n",
       "      <td>0.099122</td>\n",
       "      <td>0.115376</td>\n",
       "      <td>-0.561558</td>\n",
       "      <td>0.189683</td>\n",
       "      <td>0.549954</td>\n",
       "      <td>-0.309922</td>\n",
       "      <td>-0.125687</td>\n",
       "      <td>...</td>\n",
       "      <td>0.414035</td>\n",
       "      <td>0.166428</td>\n",
       "      <td>0.057105</td>\n",
       "      <td>0.067802</td>\n",
       "      <td>0.477216</td>\n",
       "      <td>0.218411</td>\n",
       "      <td>0.194449</td>\n",
       "      <td>-0.231584</td>\n",
       "      <td>0.165063</td>\n",
       "      <td>0.001729</td>\n",
       "    </tr>\n",
       "  </tbody>\n",
       "</table>\n",
       "<p>5 rows × 100 columns</p>\n",
       "</div>"
      ],
      "text/plain": [
       "         0         1         2         3         4         5         6   \\\n",
       "0 -0.174882  0.237811  0.117865  0.090352  0.092584 -0.490917  0.173914   \n",
       "1 -0.159109  0.202145  0.098573  0.076348  0.085055 -0.418433  0.136617   \n",
       "2 -0.185214  0.253473  0.126324  0.110499  0.074924 -0.528249  0.174914   \n",
       "3 -0.240059  0.315037  0.152924  0.119885  0.126817 -0.656782  0.224011   \n",
       "4 -0.206349  0.262090  0.137853  0.099122  0.115376 -0.561558  0.189683   \n",
       "\n",
       "         7         8         9   ...        90        91        92        93  \\\n",
       "0  0.476199 -0.264198 -0.109826  ...  0.355807  0.149270  0.050715  0.053324   \n",
       "1  0.410811 -0.227364 -0.087597  ...  0.312518  0.120728  0.038466  0.039349   \n",
       "2  0.470094 -0.280336 -0.136550  ...  0.347033  0.149244  0.048464  0.040011   \n",
       "3  0.641553 -0.358653 -0.139065  ...  0.483817  0.195657  0.062522  0.076810   \n",
       "4  0.549954 -0.309922 -0.125687  ...  0.414035  0.166428  0.057105  0.067802   \n",
       "\n",
       "         94        95        96        97        98        99  \n",
       "0  0.421908  0.185385  0.165887 -0.191640  0.147173  0.009049  \n",
       "1  0.351808  0.155650  0.143580 -0.174410  0.133352  0.001920  \n",
       "2  0.427262  0.167831  0.111661 -0.222528  0.174398  0.024002  \n",
       "3  0.556375  0.255600  0.237112 -0.262585  0.199402  0.004023  \n",
       "4  0.477216  0.218411  0.194449 -0.231584  0.165063  0.001729  \n",
       "\n",
       "[5 rows x 100 columns]"
      ]
     },
     "execution_count": 67,
     "metadata": {},
     "output_type": "execute_result"
    }
   ],
   "source": [
    "df.head()"
   ]
  },
  {
   "cell_type": "code",
   "execution_count": 68,
   "id": "fd0f5be4",
   "metadata": {},
   "outputs": [],
   "source": [
    "df['Output']=y"
   ]
  },
  {
   "cell_type": "code",
   "execution_count": 69,
   "id": "a7e46cc2",
   "metadata": {},
   "outputs": [
    {
     "data": {
      "text/html": [
       "<div>\n",
       "<style scoped>\n",
       "    .dataframe tbody tr th:only-of-type {\n",
       "        vertical-align: middle;\n",
       "    }\n",
       "\n",
       "    .dataframe tbody tr th {\n",
       "        vertical-align: top;\n",
       "    }\n",
       "\n",
       "    .dataframe thead th {\n",
       "        text-align: right;\n",
       "    }\n",
       "</style>\n",
       "<table border=\"1\" class=\"dataframe\">\n",
       "  <thead>\n",
       "    <tr style=\"text-align: right;\">\n",
       "      <th></th>\n",
       "      <th>0</th>\n",
       "      <th>1</th>\n",
       "      <th>2</th>\n",
       "      <th>3</th>\n",
       "      <th>4</th>\n",
       "      <th>5</th>\n",
       "      <th>6</th>\n",
       "      <th>7</th>\n",
       "      <th>8</th>\n",
       "      <th>9</th>\n",
       "      <th>...</th>\n",
       "      <th>91</th>\n",
       "      <th>92</th>\n",
       "      <th>93</th>\n",
       "      <th>94</th>\n",
       "      <th>95</th>\n",
       "      <th>96</th>\n",
       "      <th>97</th>\n",
       "      <th>98</th>\n",
       "      <th>99</th>\n",
       "      <th>Output</th>\n",
       "    </tr>\n",
       "  </thead>\n",
       "  <tbody>\n",
       "    <tr>\n",
       "      <th>0</th>\n",
       "      <td>-0.174882</td>\n",
       "      <td>0.237811</td>\n",
       "      <td>0.117865</td>\n",
       "      <td>0.090352</td>\n",
       "      <td>0.092584</td>\n",
       "      <td>-0.490917</td>\n",
       "      <td>0.173914</td>\n",
       "      <td>0.476199</td>\n",
       "      <td>-0.264198</td>\n",
       "      <td>-0.109826</td>\n",
       "      <td>...</td>\n",
       "      <td>0.149270</td>\n",
       "      <td>0.050715</td>\n",
       "      <td>0.053324</td>\n",
       "      <td>0.421908</td>\n",
       "      <td>0.185385</td>\n",
       "      <td>0.165887</td>\n",
       "      <td>-0.191640</td>\n",
       "      <td>0.147173</td>\n",
       "      <td>0.009049</td>\n",
       "      <td>True</td>\n",
       "    </tr>\n",
       "    <tr>\n",
       "      <th>1</th>\n",
       "      <td>-0.159109</td>\n",
       "      <td>0.202145</td>\n",
       "      <td>0.098573</td>\n",
       "      <td>0.076348</td>\n",
       "      <td>0.085055</td>\n",
       "      <td>-0.418433</td>\n",
       "      <td>0.136617</td>\n",
       "      <td>0.410811</td>\n",
       "      <td>-0.227364</td>\n",
       "      <td>-0.087597</td>\n",
       "      <td>...</td>\n",
       "      <td>0.120728</td>\n",
       "      <td>0.038466</td>\n",
       "      <td>0.039349</td>\n",
       "      <td>0.351808</td>\n",
       "      <td>0.155650</td>\n",
       "      <td>0.143580</td>\n",
       "      <td>-0.174410</td>\n",
       "      <td>0.133352</td>\n",
       "      <td>0.001920</td>\n",
       "      <td>True</td>\n",
       "    </tr>\n",
       "    <tr>\n",
       "      <th>2</th>\n",
       "      <td>-0.185214</td>\n",
       "      <td>0.253473</td>\n",
       "      <td>0.126324</td>\n",
       "      <td>0.110499</td>\n",
       "      <td>0.074924</td>\n",
       "      <td>-0.528249</td>\n",
       "      <td>0.174914</td>\n",
       "      <td>0.470094</td>\n",
       "      <td>-0.280336</td>\n",
       "      <td>-0.136550</td>\n",
       "      <td>...</td>\n",
       "      <td>0.149244</td>\n",
       "      <td>0.048464</td>\n",
       "      <td>0.040011</td>\n",
       "      <td>0.427262</td>\n",
       "      <td>0.167831</td>\n",
       "      <td>0.111661</td>\n",
       "      <td>-0.222528</td>\n",
       "      <td>0.174398</td>\n",
       "      <td>0.024002</td>\n",
       "      <td>False</td>\n",
       "    </tr>\n",
       "    <tr>\n",
       "      <th>3</th>\n",
       "      <td>-0.240059</td>\n",
       "      <td>0.315037</td>\n",
       "      <td>0.152924</td>\n",
       "      <td>0.119885</td>\n",
       "      <td>0.126817</td>\n",
       "      <td>-0.656782</td>\n",
       "      <td>0.224011</td>\n",
       "      <td>0.641553</td>\n",
       "      <td>-0.358653</td>\n",
       "      <td>-0.139065</td>\n",
       "      <td>...</td>\n",
       "      <td>0.195657</td>\n",
       "      <td>0.062522</td>\n",
       "      <td>0.076810</td>\n",
       "      <td>0.556375</td>\n",
       "      <td>0.255600</td>\n",
       "      <td>0.237112</td>\n",
       "      <td>-0.262585</td>\n",
       "      <td>0.199402</td>\n",
       "      <td>0.004023</td>\n",
       "      <td>True</td>\n",
       "    </tr>\n",
       "    <tr>\n",
       "      <th>4</th>\n",
       "      <td>-0.206349</td>\n",
       "      <td>0.262090</td>\n",
       "      <td>0.137853</td>\n",
       "      <td>0.099122</td>\n",
       "      <td>0.115376</td>\n",
       "      <td>-0.561558</td>\n",
       "      <td>0.189683</td>\n",
       "      <td>0.549954</td>\n",
       "      <td>-0.309922</td>\n",
       "      <td>-0.125687</td>\n",
       "      <td>...</td>\n",
       "      <td>0.166428</td>\n",
       "      <td>0.057105</td>\n",
       "      <td>0.067802</td>\n",
       "      <td>0.477216</td>\n",
       "      <td>0.218411</td>\n",
       "      <td>0.194449</td>\n",
       "      <td>-0.231584</td>\n",
       "      <td>0.165063</td>\n",
       "      <td>0.001729</td>\n",
       "      <td>True</td>\n",
       "    </tr>\n",
       "  </tbody>\n",
       "</table>\n",
       "<p>5 rows × 101 columns</p>\n",
       "</div>"
      ],
      "text/plain": [
       "          0         1         2         3         4         5         6  \\\n",
       "0 -0.174882  0.237811  0.117865  0.090352  0.092584 -0.490917  0.173914   \n",
       "1 -0.159109  0.202145  0.098573  0.076348  0.085055 -0.418433  0.136617   \n",
       "2 -0.185214  0.253473  0.126324  0.110499  0.074924 -0.528249  0.174914   \n",
       "3 -0.240059  0.315037  0.152924  0.119885  0.126817 -0.656782  0.224011   \n",
       "4 -0.206349  0.262090  0.137853  0.099122  0.115376 -0.561558  0.189683   \n",
       "\n",
       "          7         8         9  ...        91        92        93        94  \\\n",
       "0  0.476199 -0.264198 -0.109826  ...  0.149270  0.050715  0.053324  0.421908   \n",
       "1  0.410811 -0.227364 -0.087597  ...  0.120728  0.038466  0.039349  0.351808   \n",
       "2  0.470094 -0.280336 -0.136550  ...  0.149244  0.048464  0.040011  0.427262   \n",
       "3  0.641553 -0.358653 -0.139065  ...  0.195657  0.062522  0.076810  0.556375   \n",
       "4  0.549954 -0.309922 -0.125687  ...  0.166428  0.057105  0.067802  0.477216   \n",
       "\n",
       "         95        96        97        98        99  Output  \n",
       "0  0.185385  0.165887 -0.191640  0.147173  0.009049    True  \n",
       "1  0.155650  0.143580 -0.174410  0.133352  0.001920    True  \n",
       "2  0.167831  0.111661 -0.222528  0.174398  0.024002   False  \n",
       "3  0.255600  0.237112 -0.262585  0.199402  0.004023    True  \n",
       "4  0.218411  0.194449 -0.231584  0.165063  0.001729    True  \n",
       "\n",
       "[5 rows x 101 columns]"
      ]
     },
     "execution_count": 69,
     "metadata": {},
     "output_type": "execute_result"
    }
   ],
   "source": [
    "df.head()"
   ]
  },
  {
   "cell_type": "code",
   "execution_count": 70,
   "id": "d58af88d",
   "metadata": {},
   "outputs": [],
   "source": [
    "df.dropna(inplace=True)"
   ]
  },
  {
   "cell_type": "code",
   "execution_count": 71,
   "id": "03607fc7",
   "metadata": {},
   "outputs": [],
   "source": [
    "#df.isnull().sum()"
   ]
  },
  {
   "cell_type": "code",
   "execution_count": 72,
   "id": "bb58e962",
   "metadata": {},
   "outputs": [],
   "source": [
    "## Independent Feature\n",
    "X=df"
   ]
  },
  {
   "cell_type": "code",
   "execution_count": 73,
   "id": "9e11d4db",
   "metadata": {},
   "outputs": [
    {
     "data": {
      "text/plain": [
       "0         0\n",
       "1         0\n",
       "2         0\n",
       "3         0\n",
       "4         0\n",
       "         ..\n",
       "96        0\n",
       "97        0\n",
       "98        0\n",
       "99        0\n",
       "Output    0\n",
       "Length: 101, dtype: int64"
      ]
     },
     "execution_count": 73,
     "metadata": {},
     "output_type": "execute_result"
    }
   ],
   "source": [
    "X.isnull().sum()"
   ]
  },
  {
   "cell_type": "code",
   "execution_count": 74,
   "id": "ca08a750",
   "metadata": {},
   "outputs": [],
   "source": [
    "y=df['Output']"
   ]
  },
  {
   "cell_type": "code",
   "execution_count": 75,
   "id": "cdcba669",
   "metadata": {},
   "outputs": [],
   "source": [
    "## Train Test Split\n",
    "from sklearn.model_selection import train_test_split\n",
    "X_train,X_test,y_train,y_test=train_test_split(X,y,test_size=0.20)"
   ]
  },
  {
   "cell_type": "code",
   "execution_count": 76,
   "id": "916fee6d",
   "metadata": {},
   "outputs": [
    {
     "data": {
      "text/html": [
       "<div>\n",
       "<style scoped>\n",
       "    .dataframe tbody tr th:only-of-type {\n",
       "        vertical-align: middle;\n",
       "    }\n",
       "\n",
       "    .dataframe tbody tr th {\n",
       "        vertical-align: top;\n",
       "    }\n",
       "\n",
       "    .dataframe thead th {\n",
       "        text-align: right;\n",
       "    }\n",
       "</style>\n",
       "<table border=\"1\" class=\"dataframe\">\n",
       "  <thead>\n",
       "    <tr style=\"text-align: right;\">\n",
       "      <th></th>\n",
       "      <th>0</th>\n",
       "      <th>1</th>\n",
       "      <th>2</th>\n",
       "      <th>3</th>\n",
       "      <th>4</th>\n",
       "      <th>5</th>\n",
       "      <th>6</th>\n",
       "      <th>7</th>\n",
       "      <th>8</th>\n",
       "      <th>9</th>\n",
       "      <th>...</th>\n",
       "      <th>91</th>\n",
       "      <th>92</th>\n",
       "      <th>93</th>\n",
       "      <th>94</th>\n",
       "      <th>95</th>\n",
       "      <th>96</th>\n",
       "      <th>97</th>\n",
       "      <th>98</th>\n",
       "      <th>99</th>\n",
       "      <th>Output</th>\n",
       "    </tr>\n",
       "  </thead>\n",
       "  <tbody>\n",
       "    <tr>\n",
       "      <th>3660</th>\n",
       "      <td>-0.241453</td>\n",
       "      <td>0.295197</td>\n",
       "      <td>0.158984</td>\n",
       "      <td>0.104243</td>\n",
       "      <td>0.139259</td>\n",
       "      <td>-0.628810</td>\n",
       "      <td>0.212046</td>\n",
       "      <td>0.617340</td>\n",
       "      <td>-0.348919</td>\n",
       "      <td>-0.142457</td>\n",
       "      <td>...</td>\n",
       "      <td>0.186973</td>\n",
       "      <td>0.060679</td>\n",
       "      <td>0.071482</td>\n",
       "      <td>0.528236</td>\n",
       "      <td>0.253054</td>\n",
       "      <td>0.224874</td>\n",
       "      <td>-0.261345</td>\n",
       "      <td>0.169463</td>\n",
       "      <td>0.017043</td>\n",
       "      <td>True</td>\n",
       "    </tr>\n",
       "    <tr>\n",
       "      <th>5416</th>\n",
       "      <td>-0.213955</td>\n",
       "      <td>0.284750</td>\n",
       "      <td>0.140308</td>\n",
       "      <td>0.106550</td>\n",
       "      <td>0.115649</td>\n",
       "      <td>-0.590091</td>\n",
       "      <td>0.208527</td>\n",
       "      <td>0.578581</td>\n",
       "      <td>-0.322510</td>\n",
       "      <td>-0.131372</td>\n",
       "      <td>...</td>\n",
       "      <td>0.182257</td>\n",
       "      <td>0.061092</td>\n",
       "      <td>0.066616</td>\n",
       "      <td>0.506817</td>\n",
       "      <td>0.234375</td>\n",
       "      <td>0.208270</td>\n",
       "      <td>-0.230259</td>\n",
       "      <td>0.172606</td>\n",
       "      <td>0.003918</td>\n",
       "      <td>True</td>\n",
       "    </tr>\n",
       "    <tr>\n",
       "      <th>2635</th>\n",
       "      <td>-0.242497</td>\n",
       "      <td>0.290697</td>\n",
       "      <td>0.155734</td>\n",
       "      <td>0.125456</td>\n",
       "      <td>0.112966</td>\n",
       "      <td>-0.644972</td>\n",
       "      <td>0.206692</td>\n",
       "      <td>0.600468</td>\n",
       "      <td>-0.359107</td>\n",
       "      <td>-0.155072</td>\n",
       "      <td>...</td>\n",
       "      <td>0.182643</td>\n",
       "      <td>0.065855</td>\n",
       "      <td>0.058448</td>\n",
       "      <td>0.525453</td>\n",
       "      <td>0.231372</td>\n",
       "      <td>0.169267</td>\n",
       "      <td>-0.271360</td>\n",
       "      <td>0.199076</td>\n",
       "      <td>0.024578</td>\n",
       "      <td>True</td>\n",
       "    </tr>\n",
       "    <tr>\n",
       "      <th>1588</th>\n",
       "      <td>-0.206828</td>\n",
       "      <td>0.261218</td>\n",
       "      <td>0.134267</td>\n",
       "      <td>0.094819</td>\n",
       "      <td>0.113412</td>\n",
       "      <td>-0.558678</td>\n",
       "      <td>0.184392</td>\n",
       "      <td>0.546460</td>\n",
       "      <td>-0.305580</td>\n",
       "      <td>-0.125041</td>\n",
       "      <td>...</td>\n",
       "      <td>0.169816</td>\n",
       "      <td>0.055880</td>\n",
       "      <td>0.070563</td>\n",
       "      <td>0.473382</td>\n",
       "      <td>0.227765</td>\n",
       "      <td>0.197202</td>\n",
       "      <td>-0.218161</td>\n",
       "      <td>0.156850</td>\n",
       "      <td>0.001473</td>\n",
       "      <td>True</td>\n",
       "    </tr>\n",
       "    <tr>\n",
       "      <th>5300</th>\n",
       "      <td>-0.218379</td>\n",
       "      <td>0.280137</td>\n",
       "      <td>0.136203</td>\n",
       "      <td>0.102899</td>\n",
       "      <td>0.119880</td>\n",
       "      <td>-0.592110</td>\n",
       "      <td>0.198281</td>\n",
       "      <td>0.579539</td>\n",
       "      <td>-0.323213</td>\n",
       "      <td>-0.128026</td>\n",
       "      <td>...</td>\n",
       "      <td>0.178222</td>\n",
       "      <td>0.058758</td>\n",
       "      <td>0.067945</td>\n",
       "      <td>0.504775</td>\n",
       "      <td>0.233510</td>\n",
       "      <td>0.207549</td>\n",
       "      <td>-0.237374</td>\n",
       "      <td>0.171566</td>\n",
       "      <td>0.000659</td>\n",
       "      <td>True</td>\n",
       "    </tr>\n",
       "  </tbody>\n",
       "</table>\n",
       "<p>5 rows × 101 columns</p>\n",
       "</div>"
      ],
      "text/plain": [
       "             0         1         2         3         4         5         6  \\\n",
       "3660 -0.241453  0.295197  0.158984  0.104243  0.139259 -0.628810  0.212046   \n",
       "5416 -0.213955  0.284750  0.140308  0.106550  0.115649 -0.590091  0.208527   \n",
       "2635 -0.242497  0.290697  0.155734  0.125456  0.112966 -0.644972  0.206692   \n",
       "1588 -0.206828  0.261218  0.134267  0.094819  0.113412 -0.558678  0.184392   \n",
       "5300 -0.218379  0.280137  0.136203  0.102899  0.119880 -0.592110  0.198281   \n",
       "\n",
       "             7         8         9  ...        91        92        93  \\\n",
       "3660  0.617340 -0.348919 -0.142457  ...  0.186973  0.060679  0.071482   \n",
       "5416  0.578581 -0.322510 -0.131372  ...  0.182257  0.061092  0.066616   \n",
       "2635  0.600468 -0.359107 -0.155072  ...  0.182643  0.065855  0.058448   \n",
       "1588  0.546460 -0.305580 -0.125041  ...  0.169816  0.055880  0.070563   \n",
       "5300  0.579539 -0.323213 -0.128026  ...  0.178222  0.058758  0.067945   \n",
       "\n",
       "            94        95        96        97        98        99  Output  \n",
       "3660  0.528236  0.253054  0.224874 -0.261345  0.169463  0.017043    True  \n",
       "5416  0.506817  0.234375  0.208270 -0.230259  0.172606  0.003918    True  \n",
       "2635  0.525453  0.231372  0.169267 -0.271360  0.199076  0.024578    True  \n",
       "1588  0.473382  0.227765  0.197202 -0.218161  0.156850  0.001473    True  \n",
       "5300  0.504775  0.233510  0.207549 -0.237374  0.171566  0.000659    True  \n",
       "\n",
       "[5 rows x 101 columns]"
      ]
     },
     "execution_count": 76,
     "metadata": {},
     "output_type": "execute_result"
    }
   ],
   "source": [
    "X_train.head()"
   ]
  },
  {
   "cell_type": "code",
   "execution_count": 77,
   "id": "d7f7ff60",
   "metadata": {},
   "outputs": [
    {
     "data": {
      "text/plain": [
       "3660    True\n",
       "5416    True\n",
       "2635    True\n",
       "1588    True\n",
       "5300    True\n",
       "Name: Output, dtype: bool"
      ]
     },
     "execution_count": 77,
     "metadata": {},
     "output_type": "execute_result"
    }
   ],
   "source": [
    "y_train[:5]"
   ]
  },
  {
   "cell_type": "code",
   "execution_count": 78,
   "id": "7be64251",
   "metadata": {},
   "outputs": [],
   "source": [
    "from sklearn.ensemble import RandomForestClassifier\n",
    "classifier=RandomForestClassifier()"
   ]
  },
  {
   "cell_type": "code",
   "execution_count": 79,
   "id": "94952921",
   "metadata": {},
   "outputs": [
    {
     "data": {
      "text/html": [
       "<style>#sk-container-id-1 {\n",
       "  /* Definition of color scheme common for light and dark mode */\n",
       "  --sklearn-color-text: black;\n",
       "  --sklearn-color-line: gray;\n",
       "  /* Definition of color scheme for unfitted estimators */\n",
       "  --sklearn-color-unfitted-level-0: #fff5e6;\n",
       "  --sklearn-color-unfitted-level-1: #f6e4d2;\n",
       "  --sklearn-color-unfitted-level-2: #ffe0b3;\n",
       "  --sklearn-color-unfitted-level-3: chocolate;\n",
       "  /* Definition of color scheme for fitted estimators */\n",
       "  --sklearn-color-fitted-level-0: #f0f8ff;\n",
       "  --sklearn-color-fitted-level-1: #d4ebff;\n",
       "  --sklearn-color-fitted-level-2: #b3dbfd;\n",
       "  --sklearn-color-fitted-level-3: cornflowerblue;\n",
       "\n",
       "  /* Specific color for light theme */\n",
       "  --sklearn-color-text-on-default-background: var(--sg-text-color, var(--theme-code-foreground, var(--jp-content-font-color1, black)));\n",
       "  --sklearn-color-background: var(--sg-background-color, var(--theme-background, var(--jp-layout-color0, white)));\n",
       "  --sklearn-color-border-box: var(--sg-text-color, var(--theme-code-foreground, var(--jp-content-font-color1, black)));\n",
       "  --sklearn-color-icon: #696969;\n",
       "\n",
       "  @media (prefers-color-scheme: dark) {\n",
       "    /* Redefinition of color scheme for dark theme */\n",
       "    --sklearn-color-text-on-default-background: var(--sg-text-color, var(--theme-code-foreground, var(--jp-content-font-color1, white)));\n",
       "    --sklearn-color-background: var(--sg-background-color, var(--theme-background, var(--jp-layout-color0, #111)));\n",
       "    --sklearn-color-border-box: var(--sg-text-color, var(--theme-code-foreground, var(--jp-content-font-color1, white)));\n",
       "    --sklearn-color-icon: #878787;\n",
       "  }\n",
       "}\n",
       "\n",
       "#sk-container-id-1 {\n",
       "  color: var(--sklearn-color-text);\n",
       "}\n",
       "\n",
       "#sk-container-id-1 pre {\n",
       "  padding: 0;\n",
       "}\n",
       "\n",
       "#sk-container-id-1 input.sk-hidden--visually {\n",
       "  border: 0;\n",
       "  clip: rect(1px 1px 1px 1px);\n",
       "  clip: rect(1px, 1px, 1px, 1px);\n",
       "  height: 1px;\n",
       "  margin: -1px;\n",
       "  overflow: hidden;\n",
       "  padding: 0;\n",
       "  position: absolute;\n",
       "  width: 1px;\n",
       "}\n",
       "\n",
       "#sk-container-id-1 div.sk-dashed-wrapped {\n",
       "  border: 1px dashed var(--sklearn-color-line);\n",
       "  margin: 0 0.4em 0.5em 0.4em;\n",
       "  box-sizing: border-box;\n",
       "  padding-bottom: 0.4em;\n",
       "  background-color: var(--sklearn-color-background);\n",
       "}\n",
       "\n",
       "#sk-container-id-1 div.sk-container {\n",
       "  /* jupyter's `normalize.less` sets `[hidden] { display: none; }`\n",
       "     but bootstrap.min.css set `[hidden] { display: none !important; }`\n",
       "     so we also need the `!important` here to be able to override the\n",
       "     default hidden behavior on the sphinx rendered scikit-learn.org.\n",
       "     See: https://github.com/scikit-learn/scikit-learn/issues/21755 */\n",
       "  display: inline-block !important;\n",
       "  position: relative;\n",
       "}\n",
       "\n",
       "#sk-container-id-1 div.sk-text-repr-fallback {\n",
       "  display: none;\n",
       "}\n",
       "\n",
       "div.sk-parallel-item,\n",
       "div.sk-serial,\n",
       "div.sk-item {\n",
       "  /* draw centered vertical line to link estimators */\n",
       "  background-image: linear-gradient(var(--sklearn-color-text-on-default-background), var(--sklearn-color-text-on-default-background));\n",
       "  background-size: 2px 100%;\n",
       "  background-repeat: no-repeat;\n",
       "  background-position: center center;\n",
       "}\n",
       "\n",
       "/* Parallel-specific style estimator block */\n",
       "\n",
       "#sk-container-id-1 div.sk-parallel-item::after {\n",
       "  content: \"\";\n",
       "  width: 100%;\n",
       "  border-bottom: 2px solid var(--sklearn-color-text-on-default-background);\n",
       "  flex-grow: 1;\n",
       "}\n",
       "\n",
       "#sk-container-id-1 div.sk-parallel {\n",
       "  display: flex;\n",
       "  align-items: stretch;\n",
       "  justify-content: center;\n",
       "  background-color: var(--sklearn-color-background);\n",
       "  position: relative;\n",
       "}\n",
       "\n",
       "#sk-container-id-1 div.sk-parallel-item {\n",
       "  display: flex;\n",
       "  flex-direction: column;\n",
       "}\n",
       "\n",
       "#sk-container-id-1 div.sk-parallel-item:first-child::after {\n",
       "  align-self: flex-end;\n",
       "  width: 50%;\n",
       "}\n",
       "\n",
       "#sk-container-id-1 div.sk-parallel-item:last-child::after {\n",
       "  align-self: flex-start;\n",
       "  width: 50%;\n",
       "}\n",
       "\n",
       "#sk-container-id-1 div.sk-parallel-item:only-child::after {\n",
       "  width: 0;\n",
       "}\n",
       "\n",
       "/* Serial-specific style estimator block */\n",
       "\n",
       "#sk-container-id-1 div.sk-serial {\n",
       "  display: flex;\n",
       "  flex-direction: column;\n",
       "  align-items: center;\n",
       "  background-color: var(--sklearn-color-background);\n",
       "  padding-right: 1em;\n",
       "  padding-left: 1em;\n",
       "}\n",
       "\n",
       "\n",
       "/* Toggleable style: style used for estimator/Pipeline/ColumnTransformer box that is\n",
       "clickable and can be expanded/collapsed.\n",
       "- Pipeline and ColumnTransformer use this feature and define the default style\n",
       "- Estimators will overwrite some part of the style using the `sk-estimator` class\n",
       "*/\n",
       "\n",
       "/* Pipeline and ColumnTransformer style (default) */\n",
       "\n",
       "#sk-container-id-1 div.sk-toggleable {\n",
       "  /* Default theme specific background. It is overwritten whether we have a\n",
       "  specific estimator or a Pipeline/ColumnTransformer */\n",
       "  background-color: var(--sklearn-color-background);\n",
       "}\n",
       "\n",
       "/* Toggleable label */\n",
       "#sk-container-id-1 label.sk-toggleable__label {\n",
       "  cursor: pointer;\n",
       "  display: block;\n",
       "  width: 100%;\n",
       "  margin-bottom: 0;\n",
       "  padding: 0.5em;\n",
       "  box-sizing: border-box;\n",
       "  text-align: center;\n",
       "}\n",
       "\n",
       "#sk-container-id-1 label.sk-toggleable__label-arrow:before {\n",
       "  /* Arrow on the left of the label */\n",
       "  content: \"▸\";\n",
       "  float: left;\n",
       "  margin-right: 0.25em;\n",
       "  color: var(--sklearn-color-icon);\n",
       "}\n",
       "\n",
       "#sk-container-id-1 label.sk-toggleable__label-arrow:hover:before {\n",
       "  color: var(--sklearn-color-text);\n",
       "}\n",
       "\n",
       "/* Toggleable content - dropdown */\n",
       "\n",
       "#sk-container-id-1 div.sk-toggleable__content {\n",
       "  max-height: 0;\n",
       "  max-width: 0;\n",
       "  overflow: hidden;\n",
       "  text-align: left;\n",
       "  /* unfitted */\n",
       "  background-color: var(--sklearn-color-unfitted-level-0);\n",
       "}\n",
       "\n",
       "#sk-container-id-1 div.sk-toggleable__content.fitted {\n",
       "  /* fitted */\n",
       "  background-color: var(--sklearn-color-fitted-level-0);\n",
       "}\n",
       "\n",
       "#sk-container-id-1 div.sk-toggleable__content pre {\n",
       "  margin: 0.2em;\n",
       "  border-radius: 0.25em;\n",
       "  color: var(--sklearn-color-text);\n",
       "  /* unfitted */\n",
       "  background-color: var(--sklearn-color-unfitted-level-0);\n",
       "}\n",
       "\n",
       "#sk-container-id-1 div.sk-toggleable__content.fitted pre {\n",
       "  /* unfitted */\n",
       "  background-color: var(--sklearn-color-fitted-level-0);\n",
       "}\n",
       "\n",
       "#sk-container-id-1 input.sk-toggleable__control:checked~div.sk-toggleable__content {\n",
       "  /* Expand drop-down */\n",
       "  max-height: 200px;\n",
       "  max-width: 100%;\n",
       "  overflow: auto;\n",
       "}\n",
       "\n",
       "#sk-container-id-1 input.sk-toggleable__control:checked~label.sk-toggleable__label-arrow:before {\n",
       "  content: \"▾\";\n",
       "}\n",
       "\n",
       "/* Pipeline/ColumnTransformer-specific style */\n",
       "\n",
       "#sk-container-id-1 div.sk-label input.sk-toggleable__control:checked~label.sk-toggleable__label {\n",
       "  color: var(--sklearn-color-text);\n",
       "  background-color: var(--sklearn-color-unfitted-level-2);\n",
       "}\n",
       "\n",
       "#sk-container-id-1 div.sk-label.fitted input.sk-toggleable__control:checked~label.sk-toggleable__label {\n",
       "  background-color: var(--sklearn-color-fitted-level-2);\n",
       "}\n",
       "\n",
       "/* Estimator-specific style */\n",
       "\n",
       "/* Colorize estimator box */\n",
       "#sk-container-id-1 div.sk-estimator input.sk-toggleable__control:checked~label.sk-toggleable__label {\n",
       "  /* unfitted */\n",
       "  background-color: var(--sklearn-color-unfitted-level-2);\n",
       "}\n",
       "\n",
       "#sk-container-id-1 div.sk-estimator.fitted input.sk-toggleable__control:checked~label.sk-toggleable__label {\n",
       "  /* fitted */\n",
       "  background-color: var(--sklearn-color-fitted-level-2);\n",
       "}\n",
       "\n",
       "#sk-container-id-1 div.sk-label label.sk-toggleable__label,\n",
       "#sk-container-id-1 div.sk-label label {\n",
       "  /* The background is the default theme color */\n",
       "  color: var(--sklearn-color-text-on-default-background);\n",
       "}\n",
       "\n",
       "/* On hover, darken the color of the background */\n",
       "#sk-container-id-1 div.sk-label:hover label.sk-toggleable__label {\n",
       "  color: var(--sklearn-color-text);\n",
       "  background-color: var(--sklearn-color-unfitted-level-2);\n",
       "}\n",
       "\n",
       "/* Label box, darken color on hover, fitted */\n",
       "#sk-container-id-1 div.sk-label.fitted:hover label.sk-toggleable__label.fitted {\n",
       "  color: var(--sklearn-color-text);\n",
       "  background-color: var(--sklearn-color-fitted-level-2);\n",
       "}\n",
       "\n",
       "/* Estimator label */\n",
       "\n",
       "#sk-container-id-1 div.sk-label label {\n",
       "  font-family: monospace;\n",
       "  font-weight: bold;\n",
       "  display: inline-block;\n",
       "  line-height: 1.2em;\n",
       "}\n",
       "\n",
       "#sk-container-id-1 div.sk-label-container {\n",
       "  text-align: center;\n",
       "}\n",
       "\n",
       "/* Estimator-specific */\n",
       "#sk-container-id-1 div.sk-estimator {\n",
       "  font-family: monospace;\n",
       "  border: 1px dotted var(--sklearn-color-border-box);\n",
       "  border-radius: 0.25em;\n",
       "  box-sizing: border-box;\n",
       "  margin-bottom: 0.5em;\n",
       "  /* unfitted */\n",
       "  background-color: var(--sklearn-color-unfitted-level-0);\n",
       "}\n",
       "\n",
       "#sk-container-id-1 div.sk-estimator.fitted {\n",
       "  /* fitted */\n",
       "  background-color: var(--sklearn-color-fitted-level-0);\n",
       "}\n",
       "\n",
       "/* on hover */\n",
       "#sk-container-id-1 div.sk-estimator:hover {\n",
       "  /* unfitted */\n",
       "  background-color: var(--sklearn-color-unfitted-level-2);\n",
       "}\n",
       "\n",
       "#sk-container-id-1 div.sk-estimator.fitted:hover {\n",
       "  /* fitted */\n",
       "  background-color: var(--sklearn-color-fitted-level-2);\n",
       "}\n",
       "\n",
       "/* Specification for estimator info (e.g. \"i\" and \"?\") */\n",
       "\n",
       "/* Common style for \"i\" and \"?\" */\n",
       "\n",
       ".sk-estimator-doc-link,\n",
       "a:link.sk-estimator-doc-link,\n",
       "a:visited.sk-estimator-doc-link {\n",
       "  float: right;\n",
       "  font-size: smaller;\n",
       "  line-height: 1em;\n",
       "  font-family: monospace;\n",
       "  background-color: var(--sklearn-color-background);\n",
       "  border-radius: 1em;\n",
       "  height: 1em;\n",
       "  width: 1em;\n",
       "  text-decoration: none !important;\n",
       "  margin-left: 1ex;\n",
       "  /* unfitted */\n",
       "  border: var(--sklearn-color-unfitted-level-1) 1pt solid;\n",
       "  color: var(--sklearn-color-unfitted-level-1);\n",
       "}\n",
       "\n",
       ".sk-estimator-doc-link.fitted,\n",
       "a:link.sk-estimator-doc-link.fitted,\n",
       "a:visited.sk-estimator-doc-link.fitted {\n",
       "  /* fitted */\n",
       "  border: var(--sklearn-color-fitted-level-1) 1pt solid;\n",
       "  color: var(--sklearn-color-fitted-level-1);\n",
       "}\n",
       "\n",
       "/* On hover */\n",
       "div.sk-estimator:hover .sk-estimator-doc-link:hover,\n",
       ".sk-estimator-doc-link:hover,\n",
       "div.sk-label-container:hover .sk-estimator-doc-link:hover,\n",
       ".sk-estimator-doc-link:hover {\n",
       "  /* unfitted */\n",
       "  background-color: var(--sklearn-color-unfitted-level-3);\n",
       "  color: var(--sklearn-color-background);\n",
       "  text-decoration: none;\n",
       "}\n",
       "\n",
       "div.sk-estimator.fitted:hover .sk-estimator-doc-link.fitted:hover,\n",
       ".sk-estimator-doc-link.fitted:hover,\n",
       "div.sk-label-container:hover .sk-estimator-doc-link.fitted:hover,\n",
       ".sk-estimator-doc-link.fitted:hover {\n",
       "  /* fitted */\n",
       "  background-color: var(--sklearn-color-fitted-level-3);\n",
       "  color: var(--sklearn-color-background);\n",
       "  text-decoration: none;\n",
       "}\n",
       "\n",
       "/* Span, style for the box shown on hovering the info icon */\n",
       ".sk-estimator-doc-link span {\n",
       "  display: none;\n",
       "  z-index: 9999;\n",
       "  position: relative;\n",
       "  font-weight: normal;\n",
       "  right: .2ex;\n",
       "  padding: .5ex;\n",
       "  margin: .5ex;\n",
       "  width: min-content;\n",
       "  min-width: 20ex;\n",
       "  max-width: 50ex;\n",
       "  color: var(--sklearn-color-text);\n",
       "  box-shadow: 2pt 2pt 4pt #999;\n",
       "  /* unfitted */\n",
       "  background: var(--sklearn-color-unfitted-level-0);\n",
       "  border: .5pt solid var(--sklearn-color-unfitted-level-3);\n",
       "}\n",
       "\n",
       ".sk-estimator-doc-link.fitted span {\n",
       "  /* fitted */\n",
       "  background: var(--sklearn-color-fitted-level-0);\n",
       "  border: var(--sklearn-color-fitted-level-3);\n",
       "}\n",
       "\n",
       ".sk-estimator-doc-link:hover span {\n",
       "  display: block;\n",
       "}\n",
       "\n",
       "/* \"?\"-specific style due to the `<a>` HTML tag */\n",
       "\n",
       "#sk-container-id-1 a.estimator_doc_link {\n",
       "  float: right;\n",
       "  font-size: 1rem;\n",
       "  line-height: 1em;\n",
       "  font-family: monospace;\n",
       "  background-color: var(--sklearn-color-background);\n",
       "  border-radius: 1rem;\n",
       "  height: 1rem;\n",
       "  width: 1rem;\n",
       "  text-decoration: none;\n",
       "  /* unfitted */\n",
       "  color: var(--sklearn-color-unfitted-level-1);\n",
       "  border: var(--sklearn-color-unfitted-level-1) 1pt solid;\n",
       "}\n",
       "\n",
       "#sk-container-id-1 a.estimator_doc_link.fitted {\n",
       "  /* fitted */\n",
       "  border: var(--sklearn-color-fitted-level-1) 1pt solid;\n",
       "  color: var(--sklearn-color-fitted-level-1);\n",
       "}\n",
       "\n",
       "/* On hover */\n",
       "#sk-container-id-1 a.estimator_doc_link:hover {\n",
       "  /* unfitted */\n",
       "  background-color: var(--sklearn-color-unfitted-level-3);\n",
       "  color: var(--sklearn-color-background);\n",
       "  text-decoration: none;\n",
       "}\n",
       "\n",
       "#sk-container-id-1 a.estimator_doc_link.fitted:hover {\n",
       "  /* fitted */\n",
       "  background-color: var(--sklearn-color-fitted-level-3);\n",
       "}\n",
       "</style><div id=\"sk-container-id-1\" class=\"sk-top-container\"><div class=\"sk-text-repr-fallback\"><pre>RandomForestClassifier()</pre><b>In a Jupyter environment, please rerun this cell to show the HTML representation or trust the notebook. <br />On GitHub, the HTML representation is unable to render, please try loading this page with nbviewer.org.</b></div><div class=\"sk-container\" hidden><div class=\"sk-item\"><div class=\"sk-estimator fitted sk-toggleable\"><input class=\"sk-toggleable__control sk-hidden--visually\" id=\"sk-estimator-id-1\" type=\"checkbox\" checked><label for=\"sk-estimator-id-1\" class=\"sk-toggleable__label fitted sk-toggleable__label-arrow fitted\">&nbsp;&nbsp;RandomForestClassifier<a class=\"sk-estimator-doc-link fitted\" rel=\"noreferrer\" target=\"_blank\" href=\"https://scikit-learn.org/1.5/modules/generated/sklearn.ensemble.RandomForestClassifier.html\">?<span>Documentation for RandomForestClassifier</span></a><span class=\"sk-estimator-doc-link fitted\">i<span>Fitted</span></span></label><div class=\"sk-toggleable__content fitted\"><pre>RandomForestClassifier()</pre></div> </div></div></div></div>"
      ],
      "text/plain": [
       "RandomForestClassifier()"
      ]
     },
     "execution_count": 79,
     "metadata": {},
     "output_type": "execute_result"
    }
   ],
   "source": [
    "X_train.columns = X_train.columns.astype(str)\n",
    "X_test.columns = X_test.columns.astype(str)\n",
    "\n",
    "classifier.fit(X_train,y_train)"
   ]
  },
  {
   "cell_type": "code",
   "execution_count": 80,
   "id": "03085331",
   "metadata": {},
   "outputs": [],
   "source": [
    "y_pred=classifier.predict(X_test)"
   ]
  },
  {
   "cell_type": "code",
   "execution_count": 81,
   "id": "7c8c9452",
   "metadata": {},
   "outputs": [
    {
     "name": "stdout",
     "output_type": "stream",
     "text": [
      "0.9991023339317774\n"
     ]
    }
   ],
   "source": [
    "from sklearn.metrics import accuracy_score,classification_report\n",
    "print(accuracy_score(y_test,y_pred))"
   ]
  },
  {
   "cell_type": "code",
   "execution_count": 180,
   "id": "88f76683",
   "metadata": {},
   "outputs": [
    {
     "name": "stdout",
     "output_type": "stream",
     "text": [
      "              precision    recall  f1-score   support\n",
      "\n",
      "       False       1.00      0.97      0.98       157\n",
      "        True       0.99      1.00      1.00       957\n",
      "\n",
      "    accuracy                           1.00      1114\n",
      "   macro avg       1.00      0.98      0.99      1114\n",
      "weighted avg       1.00      1.00      1.00      1114\n",
      "\n"
     ]
    }
   ],
   "source": [
    "print(classification_report(y_test,y_pred))"
   ]
  }
 ],
 "metadata": {
  "kernelspec": {
   "display_name": "base",
   "language": "python",
   "name": "python3"
  },
  "language_info": {
   "codemirror_mode": {
    "name": "ipython",
    "version": 3
   },
   "file_extension": ".py",
   "mimetype": "text/x-python",
   "name": "python",
   "nbconvert_exporter": "python",
   "pygments_lexer": "ipython3",
   "version": "3.12.7"
  }
 },
 "nbformat": 4,
 "nbformat_minor": 5
}
